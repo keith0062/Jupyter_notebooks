{
 "cells": [
  {
   "cell_type": "code",
   "execution_count": 5,
   "metadata": {},
   "outputs": [
    {
     "name": "stdout",
     "output_type": "stream",
     "text": [
      "Multiplication of 2 and 3 is 6\n",
      "2 power 3 is 8\n"
     ]
    }
   ],
   "source": [
    "a,b = 2,3\n",
    "\n",
    "print(f\"Multiplication of 2 and 3 is {a * b}\")\n",
    "\n",
    "print(f\"2 power 3 is {a ** b}\")"
   ]
  },
  {
   "cell_type": "markdown",
   "metadata": {},
   "source": [
    "### Unpacking"
   ]
  },
  {
   "cell_type": "code",
   "execution_count": 6,
   "metadata": {},
   "outputs": [
    {
     "name": "stdout",
     "output_type": "stream",
     "text": [
      "1 [2, 3, 4, 5]\n",
      "\n",
      "--------------------\n",
      "\n",
      "1 [4, 9, 16, 25]\n"
     ]
    }
   ],
   "source": [
    "## General approach\n",
    "nums = [x for x in range(1,6)]\n",
    "a = nums[0]\n",
    "b = nums[1:]\n",
    "print(a, b)\n",
    "print(\"\\n--------------------\\n\")\n",
    "## hard approach\n",
    "squares = [x**2 for x in range(1,6)]\n",
    "a = squares[0]\n",
    "b = []\n",
    "for i in range(1, len(squares)):\n",
    "    b.append(squares[i])\n",
    "print(a, b)"
   ]
  },
  {
   "cell_type": "code",
   "execution_count": 7,
   "metadata": {},
   "outputs": [
    {
     "name": "stdout",
     "output_type": "stream",
     "text": [
      "1 [2, 3, 4, 5]\n"
     ]
    }
   ],
   "source": [
    "a, *b = nums\n",
    "print(a, b)"
   ]
  },
  {
   "cell_type": "code",
   "execution_count": 8,
   "metadata": {},
   "outputs": [
    {
     "name": "stdout",
     "output_type": "stream",
     "text": [
      "1 [2, 3, 4] 5\n"
     ]
    }
   ],
   "source": [
    "a, *b, c = (1,2,3,4,5)\n",
    "print(a,b,c)"
   ]
  },
  {
   "cell_type": "code",
   "execution_count": 9,
   "metadata": {},
   "outputs": [
    {
     "name": "stdout",
     "output_type": "stream",
     "text": [
      "1 [4, 9, 16] 25\n"
     ]
    }
   ],
   "source": [
    "a, *b, c = {1,4,9,16,25}\n",
    "print(a,b,c)"
   ]
  },
  {
   "cell_type": "markdown",
   "metadata": {},
   "source": [
    "### Combining Different Iterables"
   ]
  },
  {
   "cell_type": "code",
   "execution_count": 10,
   "metadata": {},
   "outputs": [
    {
     "name": "stdout",
     "output_type": "stream",
     "text": [
      "<class 'list'>\n",
      "[1, 2, 3, 4, 5, 6, 8, 9, 7]\n",
      "--------------------\n",
      "<class 'tuple'>\n",
      "(1, 2, 3, 4, 5, 6, 8, 9, 7)\n",
      "--------------------\n",
      "<class 'set'>\n",
      "{1, 2, 3, 4, 5, 6, 7, 8, 9}\n"
     ]
    }
   ],
   "source": [
    "nums = [1,2,3]\n",
    "nums2 = (4,5,6)\n",
    "nums3 = {7,8,9}\n",
    "\n",
    "_list = [*nums, *nums2, *nums3]\n",
    "_tuple = (*nums, *nums2, *nums3)\n",
    "_set = {*nums, *nums2, *nums3}\n",
    "\n",
    "print(type(_list))\n",
    "print(_list)\n",
    "print(\"--------------------\")\n",
    "print(type(_tuple))\n",
    "print(_tuple)\n",
    "print(\"--------------------\")\n",
    "print(type(_set))\n",
    "print(_set)"
   ]
  },
  {
   "cell_type": "markdown",
   "metadata": {},
   "source": [
    "### Nested Unpacking"
   ]
  },
  {
   "cell_type": "code",
   "execution_count": 11,
   "metadata": {},
   "outputs": [
    {
     "name": "stdout",
     "output_type": "stream",
     "text": [
      "P ['y', 't', 'h', 'o', 'n'] ['HTML', 'CSS', 'JS']\n"
     ]
    }
   ],
   "source": [
    "languages = ['Python','HTML','CSS','JS']\n",
    "# unpacking\n",
    "[[first_letter, *remaining], *other] = languages\n",
    "print(first_letter, remaining, other)"
   ]
  },
  {
   "cell_type": "markdown",
   "metadata": {},
   "source": [
    "### Unpacking using **"
   ]
  },
  {
   "cell_type": "code",
   "execution_count": 13,
   "metadata": {},
   "outputs": [
    {
     "name": "stdout",
     "output_type": "stream",
     "text": [
      "Name:-John\n",
      "Year of Graduation:-2021\n",
      "Age:-19\n"
     ]
    }
   ],
   "source": [
    "# sample dictionary\n",
    "person = {\"name\": \"John\", \"age\": 19, \"year_of_passing\": \"2021\"}\n",
    "string = \"Name:-{name}\\nYear of Graduation:-{year_of_passing}\\nAge:-{age}\".format(**person)\n",
    "print(string)"
   ]
  },
  {
   "cell_type": "markdown",
   "metadata": {},
   "source": [
    "### Asterisks in Functions\n",
    "#### Unpacking in Functions"
   ]
  },
  {
   "cell_type": "code",
   "execution_count": 14,
   "metadata": {},
   "outputs": [
    {
     "name": "stdout",
     "output_type": "stream",
     "text": [
      "1 2 3 4 5\n"
     ]
    }
   ],
   "source": [
    "nums = [i for i in range(1,6)]\n",
    "## pass list using the *\n",
    "print(*nums)"
   ]
  },
  {
   "cell_type": "code",
   "execution_count": 16,
   "metadata": {},
   "outputs": [
    {
     "name": "stdout",
     "output_type": "stream",
     "text": [
      "1, 2, 3, 4, 5\n"
     ]
    }
   ],
   "source": [
    "print(*nums, sep=', ')"
   ]
  },
  {
   "cell_type": "markdown",
   "metadata": {},
   "source": [
    "### Packing Elements"
   ]
  },
  {
   "cell_type": "code",
   "execution_count": 17,
   "metadata": {},
   "outputs": [],
   "source": [
    "def average(*nums):\n",
    "    return sum(nums) / len(nums)"
   ]
  },
  {
   "cell_type": "code",
   "execution_count": 18,
   "metadata": {},
   "outputs": [
    {
     "name": "stdout",
     "output_type": "stream",
     "text": [
      "3.0\n"
     ]
    }
   ],
   "source": [
    "print(average(1,2,3,4,5))"
   ]
  },
  {
   "cell_type": "code",
   "execution_count": 23,
   "metadata": {},
   "outputs": [
    {
     "name": "stdout",
     "output_type": "stream",
     "text": [
      "Car {'ceo': 'Louis', 'color': 'Red', 'cost': 999999, 'company': 'Farrari'}\n"
     ]
    }
   ],
   "source": [
    "def _object(name, **properties):\n",
    "    print(name, properties)\n",
    "\n",
    "_object(\"Car\", ceo=\"Louis\", color=\"Red\", cost=999999, company=\"Farrari\")"
   ]
  },
  {
   "cell_type": "markdown",
   "metadata": {},
   "source": [
    "### Keyword Only Arguments With Positional Arguments"
   ]
  },
  {
   "cell_type": "code",
   "execution_count": 24,
   "metadata": {},
   "outputs": [],
   "source": [
    "## name is a positional argument\n",
    "## color and cost are keyword arguments\n",
    "def sample(car, color=None, cost=None):\n",
    "    print(f\"Car:-{car} Color:-{color} Cost:-{cost}\")"
   ]
  },
  {
   "cell_type": "code",
   "execution_count": 25,
   "metadata": {},
   "outputs": [
    {
     "name": "stdout",
     "output_type": "stream",
     "text": [
      "Car:-Farrari Color:-Red Cost:-999999\n"
     ]
    }
   ],
   "source": [
    "sample(\"Farrari\", \"Red\", 999999)"
   ]
  },
  {
   "cell_type": "code",
   "execution_count": 26,
   "metadata": {},
   "outputs": [
    {
     "name": "stdout",
     "output_type": "stream",
     "text": [
      "Car:-Farrari Color:-Red Cost:-99999\n"
     ]
    }
   ],
   "source": [
    "sample(\"Farrari\", cost=99999, color=\"Red\")"
   ]
  },
  {
   "cell_type": "code",
   "execution_count": 27,
   "metadata": {},
   "outputs": [
    {
     "name": "stdout",
     "output_type": "stream",
     "text": [
      "Car:-Farrari Color:-Green Cost:-None\n"
     ]
    }
   ],
   "source": [
    "sample(\"Farrari\", color=\"Green\")"
   ]
  },
  {
   "cell_type": "code",
   "execution_count": 28,
   "metadata": {},
   "outputs": [],
   "source": [
    "def keyword_only(*items, _list, default=False):\n",
    "    print(items)\n",
    "    print(_list)\n",
    "    print(default)"
   ]
  },
  {
   "cell_type": "code",
   "execution_count": 29,
   "metadata": {},
   "outputs": [
    {
     "name": "stdout",
     "output_type": "stream",
     "text": [
      "(1, 2, 3, 4, 5)\n",
      "[1, 4, 9, 16, 25]\n",
      "True\n"
     ]
    }
   ],
   "source": [
    "nums= [i**2 for i in range(1, 6)]\n",
    "# calling the function\n",
    "keyword_only(1,2,3,4,5, _list=nums, default=True)"
   ]
  },
  {
   "cell_type": "code",
   "execution_count": 30,
   "metadata": {},
   "outputs": [
    {
     "ename": "TypeError",
     "evalue": "keyword_only() missing 1 required keyword-only argument: '_list'",
     "output_type": "error",
     "traceback": [
      "\u001b[0;31m---------------------------------------------------------------------------\u001b[0m",
      "\u001b[0;31mTypeError\u001b[0m                                 Traceback (most recent call last)",
      "\u001b[0;32m<ipython-input-30-b750699a81d5>\u001b[0m in \u001b[0;36m<module>\u001b[0;34m\u001b[0m\n\u001b[0;32m----> 1\u001b[0;31m \u001b[0mkeyword_only\u001b[0m\u001b[0;34m(\u001b[0m\u001b[0;36m1\u001b[0m\u001b[0;34m,\u001b[0m\u001b[0;36m2\u001b[0m\u001b[0;34m,\u001b[0m\u001b[0;36m3\u001b[0m\u001b[0;34m,\u001b[0m\u001b[0;36m4\u001b[0m\u001b[0;34m,\u001b[0m\u001b[0;36m5\u001b[0m\u001b[0;34m,\u001b[0m \u001b[0mnums\u001b[0m\u001b[0;34m,\u001b[0m \u001b[0mdefault\u001b[0m\u001b[0;34m=\u001b[0m\u001b[0;32mFalse\u001b[0m\u001b[0;34m)\u001b[0m\u001b[0;34m\u001b[0m\u001b[0;34m\u001b[0m\u001b[0m\n\u001b[0m",
      "\u001b[0;31mTypeError\u001b[0m: keyword_only() missing 1 required keyword-only argument: '_list'"
     ]
    }
   ],
   "source": [
    "keyword_only(1,2,3,4,5, nums, default=False)"
   ]
  },
  {
   "cell_type": "code",
   "execution_count": 31,
   "metadata": {},
   "outputs": [],
   "source": [
    "def _sample(*, name):\n",
    "    print(name)"
   ]
  },
  {
   "cell_type": "code",
   "execution_count": 32,
   "metadata": {},
   "outputs": [
    {
     "name": "stdout",
     "output_type": "stream",
     "text": [
      "DataCamp\n"
     ]
    }
   ],
   "source": [
    "_sample(name=\"DataCamp\")"
   ]
  },
  {
   "cell_type": "code",
   "execution_count": 33,
   "metadata": {},
   "outputs": [
    {
     "ename": "TypeError",
     "evalue": "_sample() takes 0 positional arguments but 1 was given",
     "output_type": "error",
     "traceback": [
      "\u001b[0;31m---------------------------------------------------------------------------\u001b[0m",
      "\u001b[0;31mTypeError\u001b[0m                                 Traceback (most recent call last)",
      "\u001b[0;32m<ipython-input-33-50cab35124e4>\u001b[0m in \u001b[0;36m<module>\u001b[0;34m\u001b[0m\n\u001b[0;32m----> 1\u001b[0;31m \u001b[0m_sample\u001b[0m\u001b[0;34m(\u001b[0m\u001b[0;34m\"DataCamp\"\u001b[0m\u001b[0;34m)\u001b[0m\u001b[0;34m\u001b[0m\u001b[0;34m\u001b[0m\u001b[0m\n\u001b[0m",
      "\u001b[0;31mTypeError\u001b[0m: _sample() takes 0 positional arguments but 1 was given"
     ]
    }
   ],
   "source": [
    "_sample(\"DataCamp\")"
   ]
  },
  {
   "cell_type": "code",
   "execution_count": null,
   "metadata": {},
   "outputs": [],
   "source": []
  }
 ],
 "metadata": {
  "kernelspec": {
   "display_name": "Python 3",
   "language": "python",
   "name": "python3"
  },
  "language_info": {
   "codemirror_mode": {
    "name": "ipython",
    "version": 3
   },
   "file_extension": ".py",
   "mimetype": "text/x-python",
   "name": "python",
   "nbconvert_exporter": "python",
   "pygments_lexer": "ipython3",
   "version": "3.7.3"
  }
 },
 "nbformat": 4,
 "nbformat_minor": 2
}

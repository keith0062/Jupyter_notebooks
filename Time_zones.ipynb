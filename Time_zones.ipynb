{
 "cells": [
  {
   "cell_type": "code",
   "execution_count": 12,
   "metadata": {},
   "outputs": [],
   "source": [
    "from datetime import datetime\n",
    "from dateutil import tz\n",
    "from dateutil import rrule as rr"
   ]
  },
  {
   "cell_type": "code",
   "execution_count": 13,
   "metadata": {},
   "outputs": [
    {
     "name": "stdout",
     "output_type": "stream",
     "text": [
      "2017-03-09 17:00:00-05:00\n",
      "2017-03-10 17:00:00-05:00\n",
      "2017-03-13 17:00:00-04:00\n",
      "2017-03-14 17:00:00-04:00\n",
      "2017-03-15 17:00:00-04:00\n"
     ]
    }
   ],
   "source": [
    "WEEKDAYS = (rr.MO, rr.TU, rr.WE, rr.TH, rr.FR)\n",
    "closing_times = rr.rrule(freq=rr.DAILY, byweekday=WEEKDAYS, byhour=17,\n",
    "         dtstart=datetime(2017, 3, 9, 17,\n",
    "                          tzinfo=tz.gettz(\"America/New_York\")),\n",
    "        count=5)\n",
    "\n",
    "for dt in closing_times:\n",
    "    print(dt)"
   ]
  },
  {
   "cell_type": "code",
   "execution_count": 14,
   "metadata": {},
   "outputs": [
    {
     "name": "stdout",
     "output_type": "stream",
     "text": [
      "2017-03-09 22:00:00+00:00\n",
      "2017-03-10 22:00:00+00:00\n",
      "2017-03-13 21:00:00+00:00\n",
      "2017-03-14 21:00:00+00:00\n",
      "2017-03-15 21:00:00+00:00\n"
     ]
    }
   ],
   "source": [
    "for dt in closing_times:\n",
    "    print(dt.astimezone(tz.UTC))"
   ]
  },
  {
   "cell_type": "code",
   "execution_count": null,
   "metadata": {},
   "outputs": [],
   "source": []
  },
  {
   "cell_type": "code",
   "execution_count": 15,
   "metadata": {},
   "outputs": [],
   "source": [
    "from datetime import timedelta"
   ]
  },
  {
   "cell_type": "code",
   "execution_count": 16,
   "metadata": {},
   "outputs": [],
   "source": [
    "def print_tzinfo(dt):\n",
    "    '''Convenience function for printing time zone information of a datetime'''\n",
    "    print(\"dt.tzname:\", dt.tzname())\n",
    "    print(\"dt.utcoffset:\", dt.utcoffset() / timedelta(hours=1), \"hours\")\n",
    "    print(\"dt.dst:\", dt.dst() / timedelta(hours=1), \"hours\")"
   ]
  },
  {
   "cell_type": "code",
   "execution_count": 17,
   "metadata": {},
   "outputs": [],
   "source": [
    "EASTERN = tz.gettz(\"America/New_York\")"
   ]
  },
  {
   "cell_type": "code",
   "execution_count": 18,
   "metadata": {},
   "outputs": [],
   "source": [
    "dt_std = datetime(2019, 3, 1, 12, tzinfo=EASTERN)"
   ]
  },
  {
   "cell_type": "code",
   "execution_count": 19,
   "metadata": {},
   "outputs": [
    {
     "name": "stdout",
     "output_type": "stream",
     "text": [
      "dt.tzname: EST\n",
      "dt.utcoffset: -5.0 hours\n",
      "dt.dst: 0.0 hours\n"
     ]
    }
   ],
   "source": [
    "print_tzinfo(dt_std)"
   ]
  },
  {
   "cell_type": "code",
   "execution_count": 20,
   "metadata": {},
   "outputs": [],
   "source": [
    "dt_dst = datetime(2019, 4, 1, 12, tzinfo=EASTERN)"
   ]
  },
  {
   "cell_type": "code",
   "execution_count": 21,
   "metadata": {},
   "outputs": [
    {
     "name": "stdout",
     "output_type": "stream",
     "text": [
      "dt.tzname: EDT\n",
      "dt.utcoffset: -4.0 hours\n",
      "dt.dst: 1.0 hours\n"
     ]
    }
   ],
   "source": [
    "print_tzinfo(dt_dst)"
   ]
  },
  {
   "cell_type": "code",
   "execution_count": null,
   "metadata": {},
   "outputs": [],
   "source": []
  }
 ],
 "metadata": {
  "kernelspec": {
   "display_name": "Python 3",
   "language": "python",
   "name": "python3"
  },
  "language_info": {
   "codemirror_mode": {
    "name": "ipython",
    "version": 3
   },
   "file_extension": ".py",
   "mimetype": "text/x-python",
   "name": "python",
   "nbconvert_exporter": "python",
   "pygments_lexer": "ipython3",
   "version": "3.7.3"
  }
 },
 "nbformat": 4,
 "nbformat_minor": 2
}

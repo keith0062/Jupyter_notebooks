{
 "cells": [
  {
   "cell_type": "markdown",
   "metadata": {},
   "source": [
    "## 10 Python Tips and Tricks For Writing Better Code\n",
    "### Corey Schafer\n",
    "<br><br>\n",
    "### 1. Ternary conditionals"
   ]
  },
  {
   "cell_type": "code",
   "execution_count": 1,
   "metadata": {},
   "outputs": [
    {
     "name": "stdout",
     "output_type": "stream",
     "text": [
      "1\n"
     ]
    }
   ],
   "source": [
    "condition = True\n",
    "if condition:\n",
    "    x = 1\n",
    "else:\n",
    "    x = 0\n",
    "    \n",
    "print(x)"
   ]
  },
  {
   "cell_type": "code",
   "execution_count": 3,
   "metadata": {},
   "outputs": [
    {
     "name": "stdout",
     "output_type": "stream",
     "text": [
      "1\n"
     ]
    }
   ],
   "source": [
    "x = 1 if condition else 0\n",
    "print(x)"
   ]
  },
  {
   "cell_type": "code",
   "execution_count": 5,
   "metadata": {},
   "outputs": [
    {
     "name": "stdout",
     "output_type": "stream",
     "text": [
      "0\n"
     ]
    }
   ],
   "source": [
    "condition = False\n",
    "x = 1 if condition else 0\n",
    "print(x)"
   ]
  },
  {
   "cell_type": "markdown",
   "metadata": {},
   "source": [
    "### 2. Using large numbers with underscores"
   ]
  },
  {
   "cell_type": "code",
   "execution_count": 12,
   "metadata": {},
   "outputs": [
    {
     "name": "stdout",
     "output_type": "stream",
     "text": [
      "10,100,000,000\n"
     ]
    }
   ],
   "source": [
    "num1 = 10000000000\n",
    "num2 = 100000000\n",
    "total = num1 + num2\n",
    "print(f'{total:,}')"
   ]
  },
  {
   "cell_type": "code",
   "execution_count": 13,
   "metadata": {},
   "outputs": [
    {
     "name": "stdout",
     "output_type": "stream",
     "text": [
      "10,100,000,000.0\n"
     ]
    }
   ],
   "source": [
    "num1 = 1e10\n",
    "num2 = 1e8\n",
    "total = num1 + num2\n",
    "print(f'{total:,}')"
   ]
  },
  {
   "cell_type": "code",
   "execution_count": 14,
   "metadata": {},
   "outputs": [
    {
     "name": "stdout",
     "output_type": "stream",
     "text": [
      "10,334,567,000\n"
     ]
    }
   ],
   "source": [
    "num1 = 10_234_567_000\n",
    "num2 = 1_000_000_00\n",
    "total = num1 + num2\n",
    "print(f'{total:,}')"
   ]
  },
  {
   "cell_type": "markdown",
   "metadata": {},
   "source": [
    "### 3. Using files smarter"
   ]
  },
  {
   "cell_type": "code",
   "execution_count": 15,
   "metadata": {},
   "outputs": [
    {
     "name": "stdout",
     "output_type": "stream",
     "text": [
      "30\n"
     ]
    }
   ],
   "source": [
    "f = open('test.txt','r')\n",
    "file_contents = f.read()\n",
    "f.close()\n",
    "\n",
    "words = file_contents.split(' ')\n",
    "word_count = len(words)\n",
    "print(word_count)"
   ]
  },
  {
   "cell_type": "code",
   "execution_count": 16,
   "metadata": {},
   "outputs": [
    {
     "name": "stdout",
     "output_type": "stream",
     "text": [
      "30\n"
     ]
    }
   ],
   "source": [
    "with open('test.txt','r') as f:\n",
    "    words = f.read().split(' ')\n",
    "word_count = len(words)\n",
    "print(word_count)"
   ]
  },
  {
   "cell_type": "markdown",
   "metadata": {},
   "source": [
    "### 4. Enumerate for counting"
   ]
  },
  {
   "cell_type": "code",
   "execution_count": 18,
   "metadata": {},
   "outputs": [
    {
     "name": "stdout",
     "output_type": "stream",
     "text": [
      "0 Corey\n",
      "1 Chris\n",
      "2 Dave\n",
      "3 Travis\n"
     ]
    }
   ],
   "source": [
    "names = ['Corey', 'Chris', 'Dave', 'Travis']\n",
    "index = 0\n",
    "for name in names:\n",
    "    print(index, name)\n",
    "    index += 1"
   ]
  },
  {
   "cell_type": "code",
   "execution_count": 21,
   "metadata": {},
   "outputs": [
    {
     "name": "stdout",
     "output_type": "stream",
     "text": [
      "1 Corey\n",
      "2 Chris\n",
      "3 Dave\n",
      "4 Travis\n"
     ]
    }
   ],
   "source": [
    "for index, name in enumerate(names, start=1):\n",
    "    print(index, name)"
   ]
  },
  {
   "cell_type": "markdown",
   "metadata": {},
   "source": [
    "### 5. Zip"
   ]
  },
  {
   "cell_type": "code",
   "execution_count": 22,
   "metadata": {},
   "outputs": [
    {
     "name": "stdout",
     "output_type": "stream",
     "text": [
      "Peter Parker is actually Spiderman\n",
      "Clark Kent is actually Superman\n",
      "Wade Wilson is actually Deadpool\n",
      "Bruce Wayne is actually Batman\n"
     ]
    }
   ],
   "source": [
    "names = ['Peter Parker', 'Clark Kent', 'Wade Wilson', 'Bruce Wayne']\n",
    "heroes = ['Spiderman', 'Superman', 'Deadpool', 'Batman']\n",
    "for index, name in enumerate(names):\n",
    "    hero = heroes[index]\n",
    "    print(f'{name} is actually {hero}')"
   ]
  },
  {
   "cell_type": "code",
   "execution_count": 23,
   "metadata": {},
   "outputs": [
    {
     "name": "stdout",
     "output_type": "stream",
     "text": [
      "Peter Parker is actually Spiderman\n",
      "Clark Kent is actually Superman\n",
      "Wade Wilson is actually Deadpool\n",
      "Bruce Wayne is actually Batman\n"
     ]
    }
   ],
   "source": [
    "for name, hero in zip(names, heroes):\n",
    "    print(f'{name} is actually {hero}')"
   ]
  },
  {
   "cell_type": "code",
   "execution_count": 24,
   "metadata": {},
   "outputs": [
    {
     "name": "stdout",
     "output_type": "stream",
     "text": [
      "Peter Parker is actually Spiderman from Marvel universe\n",
      "Clark Kent is actually Superman from DC universe\n",
      "Wade Wilson is actually Deadpool from Marvel universe\n",
      "Bruce Wayne is actually Batman from DC universe\n"
     ]
    }
   ],
   "source": [
    "universes = ['Marvel', 'DC', 'Marvel', 'DC']\n",
    "for name, hero, universe in zip(names, heroes, universes):\n",
    "    print(f'{name} is actually {hero} from {universe} universe')"
   ]
  },
  {
   "cell_type": "markdown",
   "metadata": {},
   "source": [
    "### 6. Unpacking"
   ]
  },
  {
   "cell_type": "code",
   "execution_count": 25,
   "metadata": {},
   "outputs": [
    {
     "name": "stdout",
     "output_type": "stream",
     "text": [
      "(1, 2)\n"
     ]
    }
   ],
   "source": [
    "items = (1, 2)\n",
    "print(items)"
   ]
  },
  {
   "cell_type": "code",
   "execution_count": 26,
   "metadata": {},
   "outputs": [
    {
     "name": "stdout",
     "output_type": "stream",
     "text": [
      "1\n",
      "2\n"
     ]
    }
   ],
   "source": [
    "a, b = (1, 2)\n",
    "print(a)\n",
    "print(b)"
   ]
  },
  {
   "cell_type": "code",
   "execution_count": 27,
   "metadata": {},
   "outputs": [
    {
     "name": "stdout",
     "output_type": "stream",
     "text": [
      "1\n",
      "2\n",
      "[3, 4, 5]\n"
     ]
    }
   ],
   "source": [
    "a, b, *c = (1, 2, 3, 4, 5)\n",
    "print(a)\n",
    "print(b)\n",
    "print(c)"
   ]
  },
  {
   "cell_type": "code",
   "execution_count": 28,
   "metadata": {},
   "outputs": [
    {
     "name": "stdout",
     "output_type": "stream",
     "text": [
      "1\n",
      "2\n"
     ]
    }
   ],
   "source": [
    "a, b, *_ = (1, 2, 3, 4, 5)\n",
    "print(a)\n",
    "print(b)"
   ]
  },
  {
   "cell_type": "code",
   "execution_count": 29,
   "metadata": {},
   "outputs": [
    {
     "name": "stdout",
     "output_type": "stream",
     "text": [
      "1\n",
      "2\n",
      "[3, 4]\n",
      "5\n"
     ]
    }
   ],
   "source": [
    "a, b, *c, d = (1, 2, 3, 4, 5)\n",
    "print(a)\n",
    "print(b)\n",
    "print(c)\n",
    "print(d)"
   ]
  },
  {
   "cell_type": "markdown",
   "metadata": {},
   "source": [
    "### 7. Getting and Setting Class Attributes"
   ]
  },
  {
   "cell_type": "code",
   "execution_count": 37,
   "metadata": {},
   "outputs": [
    {
     "name": "stdout",
     "output_type": "stream",
     "text": [
      "Keith\n",
      "Smith\n"
     ]
    }
   ],
   "source": [
    "class Person():\n",
    "    pass\n",
    "\n",
    "person = Person()\n",
    "\n",
    "person.first = \"Keith\"\n",
    "person.last = \"Smith\"\n",
    "print(person.first)\n",
    "print(person.last)"
   ]
  },
  {
   "cell_type": "code",
   "execution_count": 38,
   "metadata": {},
   "outputs": [
    {
     "name": "stdout",
     "output_type": "stream",
     "text": [
      "Keith\n"
     ]
    }
   ],
   "source": [
    "class Person():\n",
    "    pass\n",
    "\n",
    "person = Person()\n",
    "\n",
    "first_key = \"first\"\n",
    "first_val = \"Keith\"\n",
    "\n",
    "setattr(person, first_key, first_val)\n",
    "print(person.first)"
   ]
  },
  {
   "cell_type": "code",
   "execution_count": 39,
   "metadata": {},
   "outputs": [
    {
     "name": "stdout",
     "output_type": "stream",
     "text": [
      "Keith\n"
     ]
    }
   ],
   "source": [
    "first = getattr(person, first_key)\n",
    "print(first)"
   ]
  },
  {
   "cell_type": "code",
   "execution_count": 40,
   "metadata": {},
   "outputs": [
    {
     "name": "stdout",
     "output_type": "stream",
     "text": [
      "Keith\n",
      "Smith\n"
     ]
    }
   ],
   "source": [
    "class Person():\n",
    "    pass\n",
    "\n",
    "person = Person()\n",
    "\n",
    "person_info = {'first': 'Keith', 'last': 'Smith'}\n",
    "\n",
    "for key, value in person_info.items():\n",
    "    setattr(person, key, value)\n",
    "\n",
    "print(person.first)\n",
    "print(person.last)"
   ]
  },
  {
   "cell_type": "code",
   "execution_count": 41,
   "metadata": {},
   "outputs": [
    {
     "name": "stdout",
     "output_type": "stream",
     "text": [
      "Keith\n",
      "Smith\n"
     ]
    }
   ],
   "source": [
    "for key in person_info.keys():\n",
    "    print(getattr(person, key))"
   ]
  },
  {
   "cell_type": "code",
   "execution_count": null,
   "metadata": {},
   "outputs": [],
   "source": []
  }
 ],
 "metadata": {
  "kernelspec": {
   "display_name": "Python 3",
   "language": "python",
   "name": "python3"
  },
  "language_info": {
   "codemirror_mode": {
    "name": "ipython",
    "version": 3
   },
   "file_extension": ".py",
   "mimetype": "text/x-python",
   "name": "python",
   "nbconvert_exporter": "python",
   "pygments_lexer": "ipython3",
   "version": "3.7.3"
  }
 },
 "nbformat": 4,
 "nbformat_minor": 2
}

{
 "cells": [
  {
   "cell_type": "code",
   "execution_count": 1,
   "metadata": {},
   "outputs": [
    {
     "name": "stdout",
     "output_type": "stream",
     "text": [
      "/home/keith/Documents/Python\n"
     ]
    }
   ],
   "source": [
    "import os\n",
    "cwd = os.getcwd()\n",
    "print(cwd)"
   ]
  },
  {
   "cell_type": "code",
   "execution_count": 2,
   "metadata": {},
   "outputs": [
    {
     "name": "stdout",
     "output_type": "stream",
     "text": [
      ".\n"
     ]
    }
   ],
   "source": [
    "from pathlib import Path\n",
    "cwd = Path()\n",
    "print(cwd)"
   ]
  },
  {
   "cell_type": "code",
   "execution_count": 3,
   "metadata": {},
   "outputs": [
    {
     "name": "stdout",
     "output_type": "stream",
     "text": [
      "/home/keith/Documents/Python\n"
     ]
    }
   ],
   "source": [
    "print(cwd.absolute())"
   ]
  },
  {
   "cell_type": "code",
   "execution_count": 4,
   "metadata": {},
   "outputs": [
    {
     "name": "stdout",
     "output_type": "stream",
     "text": [
      "['Jupyter', 'Spyder', 'cashflow_professions.py', 'Data_Science', 'index_cars01.html', 'Matplotlib', 'htt_mrna.fasta', 'dataframe.json', 'Python_Datetime.ipynb', 'yield_foo.py', 'Inter', 'crypto_final.pickle', 'main_bokeh.py', 'WebScrape', 'python_testing.py', 'cashflow_test.py', 'ticTacToe.py', 'cars.csv', 'Time_zones.ipynb', 'turtle_star.py', 'Automate', 'characterCount.py', 'MyProject', 'Seaborn_plotting.ipynb', 'Pandas_Data.ipynb', 'birthday.py', 'regex_nucleotide.ipynb', 'cashflow_professions.txt', 'AirQualityUCI.csv', 'secret.py', 'turtle_01.py', 'point_test.py', 'Ten_Python_Tips.ipynb', 'req_web_browse.py', '.ipynb_checkpoints', 'py_class.py', 'test_python.py', 'seaborn_tut.ipynb', 'sample_sort.ipynb', '.vscode', 'Untitled.ipynb', 'point.py', 'pandas_cashflow.ipynb', 'Flaskblog', 'picnic.py', 'test.txt', 'cashflow_game.py', 'File_Path.ipynb', 'Learn', 'Asterisks.ipynb', 'cashflow_runner.py', '__pycache__', 'prettyCharacterCount.py', 'index01.html', 'Nucleotide_regex.ipynb', 'Moving_Averages.ipynb', 'request_webpage.py', 'Scrape_and_soup.ipynb', 'ProjectEuler']\n"
     ]
    }
   ],
   "source": [
    "names = os.listdir()\n",
    "print(names)"
   ]
  },
  {
   "cell_type": "code",
   "execution_count": 5,
   "metadata": {},
   "outputs": [
    {
     "name": "stdout",
     "output_type": "stream",
     "text": [
      "./Jupyter\n",
      "./Spyder\n",
      "./cashflow_professions.py\n",
      "./Data_Science\n",
      "./index_cars01.html\n",
      "./Matplotlib\n",
      "./htt_mrna.fasta\n",
      "./dataframe.json\n",
      "./Python_Datetime.ipynb\n",
      "./yield_foo.py\n",
      "./Inter\n",
      "./crypto_final.pickle\n",
      "./main_bokeh.py\n",
      "./WebScrape\n",
      "./python_testing.py\n",
      "./cashflow_test.py\n",
      "./ticTacToe.py\n",
      "./cars.csv\n",
      "./Time_zones.ipynb\n",
      "./turtle_star.py\n",
      "./Automate\n",
      "./characterCount.py\n",
      "./MyProject\n",
      "./Seaborn_plotting.ipynb\n",
      "./Pandas_Data.ipynb\n",
      "./birthday.py\n",
      "./regex_nucleotide.ipynb\n",
      "./cashflow_professions.txt\n",
      "./AirQualityUCI.csv\n",
      "./secret.py\n",
      "./turtle_01.py\n",
      "./point_test.py\n",
      "./Ten_Python_Tips.ipynb\n",
      "./req_web_browse.py\n",
      "./.ipynb_checkpoints\n",
      "./py_class.py\n",
      "./test_python.py\n",
      "./seaborn_tut.ipynb\n",
      "./sample_sort.ipynb\n",
      "./.vscode\n",
      "./Untitled.ipynb\n",
      "./point.py\n",
      "./pandas_cashflow.ipynb\n",
      "./Flaskblog\n",
      "./picnic.py\n",
      "./test.txt\n",
      "./cashflow_game.py\n",
      "./File_Path.ipynb\n",
      "./Learn\n",
      "./Asterisks.ipynb\n",
      "./cashflow_runner.py\n",
      "./__pycache__\n",
      "./prettyCharacterCount.py\n",
      "./index01.html\n",
      "./Nucleotide_regex.ipynb\n",
      "./Moving_Averages.ipynb\n",
      "./request_webpage.py\n",
      "./Scrape_and_soup.ipynb\n",
      "./ProjectEuler\n"
     ]
    }
   ],
   "source": [
    "for name in os.listdir(cwd):\n",
    "    path = os.path.join(cwd, name)\n",
    "    print(path)"
   ]
  },
  {
   "cell_type": "code",
   "execution_count": 6,
   "metadata": {},
   "outputs": [
    {
     "name": "stdout",
     "output_type": "stream",
     "text": [
      "/home/keith/Documents/Python/Jupyter\n",
      "/home/keith/Documents/Python/Spyder\n",
      "/home/keith/Documents/Python/cashflow_professions.py\n",
      "/home/keith/Documents/Python/Data_Science\n",
      "/home/keith/Documents/Python/index_cars01.html\n",
      "/home/keith/Documents/Python/Matplotlib\n",
      "/home/keith/Documents/Python/htt_mrna.fasta\n",
      "/home/keith/Documents/Python/dataframe.json\n",
      "/home/keith/Documents/Python/Python_Datetime.ipynb\n",
      "/home/keith/Documents/Python/yield_foo.py\n",
      "/home/keith/Documents/Python/Inter\n",
      "/home/keith/Documents/Python/crypto_final.pickle\n",
      "/home/keith/Documents/Python/main_bokeh.py\n",
      "/home/keith/Documents/Python/WebScrape\n",
      "/home/keith/Documents/Python/python_testing.py\n",
      "/home/keith/Documents/Python/cashflow_test.py\n",
      "/home/keith/Documents/Python/ticTacToe.py\n",
      "/home/keith/Documents/Python/cars.csv\n",
      "/home/keith/Documents/Python/Time_zones.ipynb\n",
      "/home/keith/Documents/Python/turtle_star.py\n",
      "/home/keith/Documents/Python/Automate\n",
      "/home/keith/Documents/Python/characterCount.py\n",
      "/home/keith/Documents/Python/MyProject\n",
      "/home/keith/Documents/Python/Seaborn_plotting.ipynb\n",
      "/home/keith/Documents/Python/Pandas_Data.ipynb\n",
      "/home/keith/Documents/Python/birthday.py\n",
      "/home/keith/Documents/Python/regex_nucleotide.ipynb\n",
      "/home/keith/Documents/Python/cashflow_professions.txt\n",
      "/home/keith/Documents/Python/AirQualityUCI.csv\n",
      "/home/keith/Documents/Python/secret.py\n",
      "/home/keith/Documents/Python/turtle_01.py\n",
      "/home/keith/Documents/Python/point_test.py\n",
      "/home/keith/Documents/Python/Ten_Python_Tips.ipynb\n",
      "/home/keith/Documents/Python/req_web_browse.py\n",
      "/home/keith/Documents/Python/.ipynb_checkpoints\n",
      "/home/keith/Documents/Python/py_class.py\n",
      "/home/keith/Documents/Python/test_python.py\n",
      "/home/keith/Documents/Python/seaborn_tut.ipynb\n",
      "/home/keith/Documents/Python/sample_sort.ipynb\n",
      "/home/keith/Documents/Python/.vscode\n",
      "/home/keith/Documents/Python/Untitled.ipynb\n",
      "/home/keith/Documents/Python/point.py\n",
      "/home/keith/Documents/Python/pandas_cashflow.ipynb\n",
      "/home/keith/Documents/Python/Flaskblog\n",
      "/home/keith/Documents/Python/picnic.py\n",
      "/home/keith/Documents/Python/test.txt\n",
      "/home/keith/Documents/Python/cashflow_game.py\n",
      "/home/keith/Documents/Python/File_Path.ipynb\n",
      "/home/keith/Documents/Python/Learn\n",
      "/home/keith/Documents/Python/Asterisks.ipynb\n",
      "/home/keith/Documents/Python/cashflow_runner.py\n",
      "/home/keith/Documents/Python/__pycache__\n",
      "/home/keith/Documents/Python/prettyCharacterCount.py\n",
      "/home/keith/Documents/Python/index01.html\n",
      "/home/keith/Documents/Python/Nucleotide_regex.ipynb\n",
      "/home/keith/Documents/Python/Moving_Averages.ipynb\n",
      "/home/keith/Documents/Python/request_webpage.py\n",
      "/home/keith/Documents/Python/Scrape_and_soup.ipynb\n",
      "/home/keith/Documents/Python/ProjectEuler\n"
     ]
    }
   ],
   "source": [
    "for name in os.listdir(cwd):\n",
    "    path = os.path.join(cwd.absolute(), name)\n",
    "    print(path)"
   ]
  },
  {
   "cell_type": "markdown",
   "metadata": {},
   "source": [
    "<br><br>"
   ]
  },
  {
   "cell_type": "code",
   "execution_count": 7,
   "metadata": {},
   "outputs": [
    {
     "name": "stdout",
     "output_type": "stream",
     "text": [
      "Jupyter 4096 bytes, modified 2019-05-08 12:50:05.899641\n",
      "Spyder 4096 bytes, modified 2019-05-03 12:30:17.087446\n",
      "cashflow_professions.py 159 bytes, modified 2019-04-25 13:20:23.767557\n",
      "Data_Science 4096 bytes, modified 2019-05-21 19:44:38.280259\n",
      "index_cars01.html 7001 bytes, modified 2019-05-06 00:22:36.788418\n",
      "Matplotlib 4096 bytes, modified 2019-06-28 23:14:24.567375\n",
      "htt_mrna.fasta 13739 bytes, modified 2019-04-19 20:27:44.815914\n",
      "dataframe.json 3309 bytes, modified 2019-06-04 13:55:06.152757\n",
      "Python_Datetime.ipynb 3934 bytes, modified 2019-05-09 23:10:02.471542\n",
      "yield_foo.py 343 bytes, modified 2019-06-03 11:36:16.609508\n",
      "Inter 4096 bytes, modified 2019-05-15 12:38:34.432721\n",
      "crypto_final.pickle 8477 bytes, modified 2019-06-04 19:29:16.361167\n",
      "main_bokeh.py 541 bytes, modified 2019-05-06 00:22:15.704865\n",
      "WebScrape 4096 bytes, modified 2019-05-08 20:55:39.887195\n",
      "python_testing.py 92 bytes, modified 2019-06-16 22:55:23.724300\n",
      "cashflow_test.py 805 bytes, modified 2019-04-27 15:18:44.337309\n",
      "ticTacToe.py 905 bytes, modified 2019-06-10 17:34:18.898130\n",
      "cars.csv 839 bytes, modified 2019-05-06 00:05:00.593601\n",
      "Time_zones.ipynb 3852 bytes, modified 2019-05-10 00:59:00.619501\n",
      "turtle_star.py 169 bytes, modified 2019-05-17 12:17:53.423232\n",
      "Automate 4096 bytes, modified 2019-06-27 00:46:21.082922\n",
      "characterCount.py 199 bytes, modified 2019-06-10 11:59:02.412067\n",
      "MyProject 4096 bytes, modified 2019-05-05 23:18:49.455715\n",
      "Seaborn_plotting.ipynb 499608 bytes, modified 2019-05-08 21:59:19.291707\n",
      "Pandas_Data.ipynb 87388 bytes, modified 2019-06-04 19:32:03.859372\n",
      "birthday.py 476 bytes, modified 2019-06-10 11:51:55.472885\n",
      "regex_nucleotide.ipynb 21076 bytes, modified 2019-04-19 20:35:56.140236\n",
      "cashflow_professions.txt 1232 bytes, modified 2019-05-05 16:18:59.381153\n",
      "AirQualityUCI.csv 785065 bytes, modified 2015-09-03 15:39:44\n",
      "secret.py 117 bytes, modified 2019-05-01 16:52:24.173426\n",
      "turtle_01.py 65 bytes, modified 2019-05-17 19:20:06.510182\n",
      "point_test.py 34 bytes, modified 2019-06-26 00:03:37.393950\n",
      "Ten_Python_Tips.ipynb 10351 bytes, modified 2019-05-01 16:42:10.824243\n",
      "req_web_browse.py 75 bytes, modified 2019-06-09 14:21:14.072241\n",
      ".ipynb_checkpoints 4096 bytes, modified 2019-06-30 15:57:19.822273\n",
      "py_class.py 285 bytes, modified 2019-06-26 00:00:20.885555\n",
      "test_python.py 192 bytes, modified 2019-05-03 23:47:32.968296\n",
      "seaborn_tut.ipynb 499608 bytes, modified 2019-04-20 00:56:45.357702\n",
      "sample_sort.ipynb 7882 bytes, modified 2019-05-24 22:04:41.422964\n",
      ".vscode 4096 bytes, modified 2019-05-03 23:53:03.617697\n",
      "Untitled.ipynb 87388 bytes, modified 2019-06-04 19:31:16.055600\n",
      "point.py 285 bytes, modified 2019-06-26 00:02:02.709768\n",
      "pandas_cashflow.ipynb 46358 bytes, modified 2019-05-08 22:00:27.349089\n",
      "Flaskblog 4096 bytes, modified 2019-04-30 11:26:34.553696\n",
      "picnic.py 692 bytes, modified 2019-06-10 19:28:44.710408\n",
      "test.txt 178 bytes, modified 2019-05-01 13:45:05.978504\n",
      "cashflow_game.py 3548 bytes, modified 2019-04-29 00:37:30.487450\n",
      "File_Path.ipynb 8661 bytes, modified 2019-06-30 16:04:53.542515\n",
      "Learn 4096 bytes, modified 2019-05-05 15:41:42.505386\n",
      "Asterisks.ipynb 11177 bytes, modified 2019-06-07 20:57:46.491531\n",
      "cashflow_runner.py 2577 bytes, modified 2019-05-15 15:19:29.316583\n",
      "__pycache__ 4096 bytes, modified 2019-06-26 00:03:40.890649\n",
      "prettyCharacterCount.py 221 bytes, modified 2019-06-10 12:00:46.213876\n",
      "index01.html 6705 bytes, modified 2019-05-05 23:59:42.933042\n",
      "Nucleotide_regex.ipynb 21076 bytes, modified 2019-05-08 21:58:19.874419\n",
      "Moving_Averages.ipynb 251080 bytes, modified 2019-06-25 19:57:59.499230\n",
      "request_webpage.py 189 bytes, modified 2019-06-09 14:04:29.565332\n",
      "Scrape_and_soup.ipynb 16859 bytes, modified 2019-05-09 01:20:52.729759\n",
      "ProjectEuler 4096 bytes, modified 2019-06-09 21:54:26.948060\n"
     ]
    }
   ],
   "source": [
    "import os\n",
    "from datetime import datetime\n",
    "for name in os.listdir(cwd):\n",
    "    path = os.path.join(cwd, name)\n",
    "    size = os.path.getsize(path)\n",
    "    mtime = datetime.fromtimestamp(os.path.getmtime(path))\n",
    "    print(f'{name} {size} bytes, modified {mtime}')"
   ]
  },
  {
   "cell_type": "code",
   "execution_count": 8,
   "metadata": {},
   "outputs": [
    {
     "name": "stdout",
     "output_type": "stream",
     "text": [
      "Jupyter\n",
      "Spyder\n",
      "cashflow_professions.py\n",
      "Data_Science\n",
      "index_cars01.html\n",
      "Matplotlib\n",
      "htt_mrna.fasta\n",
      "dataframe.json\n",
      "Python_Datetime.ipynb\n",
      "yield_foo.py\n",
      "Inter\n",
      "crypto_final.pickle\n",
      "main_bokeh.py\n",
      "WebScrape\n",
      "python_testing.py\n",
      "cashflow_test.py\n",
      "ticTacToe.py\n",
      "cars.csv\n",
      "Time_zones.ipynb\n",
      "turtle_star.py\n",
      "Automate\n",
      "characterCount.py\n",
      "MyProject\n",
      "Seaborn_plotting.ipynb\n",
      "Pandas_Data.ipynb\n",
      "birthday.py\n",
      "regex_nucleotide.ipynb\n",
      "cashflow_professions.txt\n",
      "AirQualityUCI.csv\n",
      "secret.py\n",
      "turtle_01.py\n",
      "point_test.py\n",
      "Ten_Python_Tips.ipynb\n",
      "req_web_browse.py\n",
      ".ipynb_checkpoints\n",
      "py_class.py\n",
      "test_python.py\n",
      "seaborn_tut.ipynb\n",
      "sample_sort.ipynb\n",
      ".vscode\n",
      "Untitled.ipynb\n",
      "point.py\n",
      "pandas_cashflow.ipynb\n",
      "Flaskblog\n",
      "picnic.py\n",
      "test.txt\n",
      "cashflow_game.py\n",
      "File_Path.ipynb\n",
      "Learn\n",
      "Asterisks.ipynb\n",
      "cashflow_runner.py\n",
      "__pycache__\n",
      "prettyCharacterCount.py\n",
      "index01.html\n",
      "Nucleotide_regex.ipynb\n",
      "Moving_Averages.ipynb\n",
      "request_webpage.py\n",
      "Scrape_and_soup.ipynb\n",
      "ProjectEuler\n"
     ]
    }
   ],
   "source": [
    "for path in cwd.iterdir():\n",
    "    print(path)"
   ]
  },
  {
   "cell_type": "code",
   "execution_count": 9,
   "metadata": {},
   "outputs": [
    {
     "data": {
      "text/plain": [
       "os.stat_result(st_mode=16877, st_ino=3545168, st_dev=2049, st_nlink=3, st_uid=1000, st_gid=1000, st_size=4096, st_atime=1560105438, st_mtime=1560131666, st_ctime=1560131666)"
      ]
     },
     "execution_count": 9,
     "metadata": {},
     "output_type": "execute_result"
    }
   ],
   "source": [
    "stats = path.stat()\n",
    "stats"
   ]
  },
  {
   "cell_type": "code",
   "execution_count": 10,
   "metadata": {},
   "outputs": [
    {
     "name": "stdout",
     "output_type": "stream",
     "text": [
      "Jupyter 4096 bytes, modified 2019-05-08 12:50:05.899641\n",
      "Spyder 4096 bytes, modified 2019-05-03 12:30:17.087446\n",
      "cashflow_professions.py 159 bytes, modified 2019-04-25 13:20:23.767557\n",
      "Data_Science 4096 bytes, modified 2019-05-21 19:44:38.280259\n",
      "index_cars01.html 7001 bytes, modified 2019-05-06 00:22:36.788418\n",
      "Matplotlib 4096 bytes, modified 2019-06-28 23:14:24.567375\n",
      "htt_mrna.fasta 13739 bytes, modified 2019-04-19 20:27:44.815914\n",
      "dataframe.json 3309 bytes, modified 2019-06-04 13:55:06.152757\n",
      "Python_Datetime.ipynb 3934 bytes, modified 2019-05-09 23:10:02.471542\n",
      "yield_foo.py 343 bytes, modified 2019-06-03 11:36:16.609508\n",
      "Inter 4096 bytes, modified 2019-05-15 12:38:34.432721\n",
      "crypto_final.pickle 8477 bytes, modified 2019-06-04 19:29:16.361167\n",
      "main_bokeh.py 541 bytes, modified 2019-05-06 00:22:15.704865\n",
      "WebScrape 4096 bytes, modified 2019-05-08 20:55:39.887195\n",
      "python_testing.py 92 bytes, modified 2019-06-16 22:55:23.724300\n",
      "cashflow_test.py 805 bytes, modified 2019-04-27 15:18:44.337309\n",
      "ticTacToe.py 905 bytes, modified 2019-06-10 17:34:18.898130\n",
      "cars.csv 839 bytes, modified 2019-05-06 00:05:00.593601\n",
      "Time_zones.ipynb 3852 bytes, modified 2019-05-10 00:59:00.619501\n",
      "turtle_star.py 169 bytes, modified 2019-05-17 12:17:53.423232\n",
      "Automate 4096 bytes, modified 2019-06-27 00:46:21.082922\n",
      "characterCount.py 199 bytes, modified 2019-06-10 11:59:02.412067\n",
      "MyProject 4096 bytes, modified 2019-05-05 23:18:49.455715\n",
      "Seaborn_plotting.ipynb 499608 bytes, modified 2019-05-08 21:59:19.291707\n",
      "Pandas_Data.ipynb 87388 bytes, modified 2019-06-04 19:32:03.859372\n",
      "birthday.py 476 bytes, modified 2019-06-10 11:51:55.472885\n",
      "regex_nucleotide.ipynb 21076 bytes, modified 2019-04-19 20:35:56.140236\n",
      "cashflow_professions.txt 1232 bytes, modified 2019-05-05 16:18:59.381153\n",
      "AirQualityUCI.csv 785065 bytes, modified 2015-09-03 15:39:44\n",
      "secret.py 117 bytes, modified 2019-05-01 16:52:24.173426\n",
      "turtle_01.py 65 bytes, modified 2019-05-17 19:20:06.510182\n",
      "point_test.py 34 bytes, modified 2019-06-26 00:03:37.393950\n",
      "Ten_Python_Tips.ipynb 10351 bytes, modified 2019-05-01 16:42:10.824243\n",
      "req_web_browse.py 75 bytes, modified 2019-06-09 14:21:14.072241\n",
      ".ipynb_checkpoints 4096 bytes, modified 2019-06-30 15:57:19.822273\n",
      "py_class.py 285 bytes, modified 2019-06-26 00:00:20.885555\n",
      "test_python.py 192 bytes, modified 2019-05-03 23:47:32.968296\n",
      "seaborn_tut.ipynb 499608 bytes, modified 2019-04-20 00:56:45.357702\n",
      "sample_sort.ipynb 7882 bytes, modified 2019-05-24 22:04:41.422964\n",
      ".vscode 4096 bytes, modified 2019-05-03 23:53:03.617697\n",
      "Untitled.ipynb 87388 bytes, modified 2019-06-04 19:31:16.055600\n",
      "point.py 285 bytes, modified 2019-06-26 00:02:02.709768\n",
      "pandas_cashflow.ipynb 46358 bytes, modified 2019-05-08 22:00:27.349089\n",
      "Flaskblog 4096 bytes, modified 2019-04-30 11:26:34.553696\n",
      "picnic.py 692 bytes, modified 2019-06-10 19:28:44.710408\n",
      "test.txt 178 bytes, modified 2019-05-01 13:45:05.978504\n",
      "cashflow_game.py 3548 bytes, modified 2019-04-29 00:37:30.487450\n",
      "File_Path.ipynb 15861 bytes, modified 2019-06-30 16:14:54.134210\n",
      "Learn 4096 bytes, modified 2019-05-05 15:41:42.505386\n",
      "Asterisks.ipynb 11177 bytes, modified 2019-06-07 20:57:46.491531\n",
      "cashflow_runner.py 2577 bytes, modified 2019-05-15 15:19:29.316583\n",
      "__pycache__ 4096 bytes, modified 2019-06-26 00:03:40.890649\n",
      "prettyCharacterCount.py 221 bytes, modified 2019-06-10 12:00:46.213876\n",
      "index01.html 6705 bytes, modified 2019-05-05 23:59:42.933042\n",
      "Nucleotide_regex.ipynb 21076 bytes, modified 2019-05-08 21:58:19.874419\n",
      "Moving_Averages.ipynb 251080 bytes, modified 2019-06-25 19:57:59.499230\n",
      "request_webpage.py 189 bytes, modified 2019-06-09 14:04:29.565332\n",
      "Scrape_and_soup.ipynb 16859 bytes, modified 2019-05-09 01:20:52.729759\n",
      "ProjectEuler 4096 bytes, modified 2019-06-09 21:54:26.948060\n"
     ]
    }
   ],
   "source": [
    "from pathlib import Path\n",
    "for path in cwd.iterdir():\n",
    "    stats = path.stat()\n",
    "    size = stats.st_size\n",
    "    mtime = datetime.fromtimestamp(stats.st_mtime)\n",
    "    print(f'{path} {size} bytes, modified {mtime}')"
   ]
  },
  {
   "cell_type": "code",
   "execution_count": 11,
   "metadata": {},
   "outputs": [
    {
     "name": "stdout",
     "output_type": "stream",
     "text": [
      "[PosixPath('cashflow_professions.py'), PosixPath('yield_foo.py'), PosixPath('main_bokeh.py'), PosixPath('python_testing.py'), PosixPath('cashflow_test.py'), PosixPath('ticTacToe.py'), PosixPath('turtle_star.py'), PosixPath('characterCount.py'), PosixPath('birthday.py'), PosixPath('secret.py'), PosixPath('turtle_01.py'), PosixPath('point_test.py'), PosixPath('req_web_browse.py'), PosixPath('py_class.py'), PosixPath('test_python.py'), PosixPath('point.py'), PosixPath('picnic.py'), PosixPath('cashflow_game.py'), PosixPath('cashflow_runner.py'), PosixPath('prettyCharacterCount.py'), PosixPath('request_webpage.py')]\n"
     ]
    }
   ],
   "source": [
    "py_files = list(cwd.glob('*.py'))\n",
    "print(py_files)"
   ]
  },
  {
   "cell_type": "code",
   "execution_count": 12,
   "metadata": {},
   "outputs": [
    {
     "name": "stdout",
     "output_type": "stream",
     "text": [
      "['cashflow_professions.py', 'yield_foo.py', 'main_bokeh.py', 'python_testing.py', 'cashflow_test.py', 'ticTacToe.py', 'turtle_star.py', 'characterCount.py', 'birthday.py', 'secret.py', 'turtle_01.py', 'point_test.py', 'req_web_browse.py', 'py_class.py', 'test_python.py', 'point.py', 'picnic.py', 'cashflow_game.py', 'cashflow_runner.py', 'prettyCharacterCount.py', 'request_webpage.py']\n"
     ]
    }
   ],
   "source": [
    "import glob\n",
    "py_files = glob.glob('*.py')\n",
    "print(py_files)"
   ]
  },
  {
   "cell_type": "markdown",
   "metadata": {},
   "source": [
    "<br><br>"
   ]
  },
  {
   "cell_type": "code",
   "execution_count": 14,
   "metadata": {},
   "outputs": [],
   "source": [
    "from pathlib import Path"
   ]
  },
  {
   "cell_type": "code",
   "execution_count": 16,
   "metadata": {},
   "outputs": [
    {
     "data": {
      "text/plain": [
       "[PosixPath('Jupyter'),\n",
       " PosixPath('Spyder'),\n",
       " PosixPath('Data_Science'),\n",
       " PosixPath('Matplotlib'),\n",
       " PosixPath('Inter'),\n",
       " PosixPath('WebScrape'),\n",
       " PosixPath('Automate'),\n",
       " PosixPath('MyProject'),\n",
       " PosixPath('.ipynb_checkpoints'),\n",
       " PosixPath('.vscode'),\n",
       " PosixPath('Flaskblog'),\n",
       " PosixPath('Learn'),\n",
       " PosixPath('__pycache__'),\n",
       " PosixPath('ProjectEuler')]"
      ]
     },
     "execution_count": 16,
     "metadata": {},
     "output_type": "execute_result"
    }
   ],
   "source": [
    "p = Path('.')\n",
    "[x for x in p.iterdir() if x.is_dir()]"
   ]
  },
  {
   "cell_type": "code",
   "execution_count": 17,
   "metadata": {},
   "outputs": [
    {
     "data": {
      "text/plain": [
       "[PosixPath('cashflow_professions.py'),\n",
       " PosixPath('yield_foo.py'),\n",
       " PosixPath('main_bokeh.py'),\n",
       " PosixPath('python_testing.py'),\n",
       " PosixPath('cashflow_test.py'),\n",
       " PosixPath('ticTacToe.py'),\n",
       " PosixPath('turtle_star.py'),\n",
       " PosixPath('characterCount.py'),\n",
       " PosixPath('birthday.py'),\n",
       " PosixPath('secret.py'),\n",
       " PosixPath('turtle_01.py'),\n",
       " PosixPath('point_test.py'),\n",
       " PosixPath('req_web_browse.py'),\n",
       " PosixPath('py_class.py'),\n",
       " PosixPath('test_python.py'),\n",
       " PosixPath('point.py'),\n",
       " PosixPath('picnic.py'),\n",
       " PosixPath('cashflow_game.py'),\n",
       " PosixPath('cashflow_runner.py'),\n",
       " PosixPath('prettyCharacterCount.py'),\n",
       " PosixPath('request_webpage.py'),\n",
       " PosixPath('Spyder/palindrome.py'),\n",
       " PosixPath('Spyder/group_by_owner.py'),\n",
       " PosixPath('Matplotlib/matplot05.py'),\n",
       " PosixPath('Matplotlib/matplot04.py'),\n",
       " PosixPath('Inter/inter02.py'),\n",
       " PosixPath('WebScrape/imdb.py'),\n",
       " PosixPath('MyProject/solar/lib/python3.7/site-packages/easy_install.py'),\n",
       " PosixPath('MyProject/solar/lib/python3.7/site-packages/pip/__init__.py'),\n",
       " PosixPath('MyProject/solar/lib/python3.7/site-packages/pip/__main__.py'),\n",
       " PosixPath('MyProject/solar/lib/python3.7/site-packages/pip/_vendor/__init__.py'),\n",
       " PosixPath('MyProject/solar/lib/python3.7/site-packages/pip/_vendor/retrying.py'),\n",
       " PosixPath('MyProject/solar/lib/python3.7/site-packages/pip/_vendor/distro.py'),\n",
       " PosixPath('MyProject/solar/lib/python3.7/site-packages/pip/_vendor/pyparsing.py'),\n",
       " PosixPath('MyProject/solar/lib/python3.7/site-packages/pip/_vendor/ipaddress.py'),\n",
       " PosixPath('MyProject/solar/lib/python3.7/site-packages/pip/_vendor/six.py'),\n",
       " PosixPath('MyProject/solar/lib/python3.7/site-packages/pip/_vendor/appdirs.py'),\n",
       " PosixPath('MyProject/solar/lib/python3.7/site-packages/pip/_vendor/requests/__version__.py'),\n",
       " PosixPath('MyProject/solar/lib/python3.7/site-packages/pip/_vendor/requests/exceptions.py'),\n",
       " PosixPath('MyProject/solar/lib/python3.7/site-packages/pip/_vendor/requests/__init__.py'),\n",
       " PosixPath('MyProject/solar/lib/python3.7/site-packages/pip/_vendor/requests/status_codes.py'),\n",
       " PosixPath('MyProject/solar/lib/python3.7/site-packages/pip/_vendor/requests/help.py'),\n",
       " PosixPath('MyProject/solar/lib/python3.7/site-packages/pip/_vendor/requests/packages.py'),\n",
       " PosixPath('MyProject/solar/lib/python3.7/site-packages/pip/_vendor/requests/auth.py'),\n",
       " PosixPath('MyProject/solar/lib/python3.7/site-packages/pip/_vendor/requests/utils.py'),\n",
       " PosixPath('MyProject/solar/lib/python3.7/site-packages/pip/_vendor/requests/models.py'),\n",
       " PosixPath('MyProject/solar/lib/python3.7/site-packages/pip/_vendor/requests/adapters.py'),\n",
       " PosixPath('MyProject/solar/lib/python3.7/site-packages/pip/_vendor/requests/api.py'),\n",
       " PosixPath('MyProject/solar/lib/python3.7/site-packages/pip/_vendor/requests/certs.py'),\n",
       " PosixPath('MyProject/solar/lib/python3.7/site-packages/pip/_vendor/requests/hooks.py'),\n",
       " PosixPath('MyProject/solar/lib/python3.7/site-packages/pip/_vendor/requests/compat.py'),\n",
       " PosixPath('MyProject/solar/lib/python3.7/site-packages/pip/_vendor/requests/sessions.py'),\n",
       " PosixPath('MyProject/solar/lib/python3.7/site-packages/pip/_vendor/requests/structures.py'),\n",
       " PosixPath('MyProject/solar/lib/python3.7/site-packages/pip/_vendor/requests/_internal_utils.py'),\n",
       " PosixPath('MyProject/solar/lib/python3.7/site-packages/pip/_vendor/requests/cookies.py'),\n",
       " PosixPath('MyProject/solar/lib/python3.7/site-packages/pip/_vendor/progress/__init__.py'),\n",
       " PosixPath('MyProject/solar/lib/python3.7/site-packages/pip/_vendor/progress/spinner.py'),\n",
       " PosixPath('MyProject/solar/lib/python3.7/site-packages/pip/_vendor/progress/bar.py'),\n",
       " PosixPath('MyProject/solar/lib/python3.7/site-packages/pip/_vendor/progress/helpers.py'),\n",
       " PosixPath('MyProject/solar/lib/python3.7/site-packages/pip/_vendor/progress/counter.py'),\n",
       " PosixPath('MyProject/solar/lib/python3.7/site-packages/pip/_vendor/urllib3/connection.py'),\n",
       " PosixPath('MyProject/solar/lib/python3.7/site-packages/pip/_vendor/urllib3/exceptions.py'),\n",
       " PosixPath('MyProject/solar/lib/python3.7/site-packages/pip/_vendor/urllib3/__init__.py'),\n",
       " PosixPath('MyProject/solar/lib/python3.7/site-packages/pip/_vendor/urllib3/poolmanager.py'),\n",
       " PosixPath('MyProject/solar/lib/python3.7/site-packages/pip/_vendor/urllib3/_collections.py'),\n",
       " PosixPath('MyProject/solar/lib/python3.7/site-packages/pip/_vendor/urllib3/connectionpool.py'),\n",
       " PosixPath('MyProject/solar/lib/python3.7/site-packages/pip/_vendor/urllib3/response.py'),\n",
       " PosixPath('MyProject/solar/lib/python3.7/site-packages/pip/_vendor/urllib3/filepost.py'),\n",
       " PosixPath('MyProject/solar/lib/python3.7/site-packages/pip/_vendor/urllib3/fields.py'),\n",
       " PosixPath('MyProject/solar/lib/python3.7/site-packages/pip/_vendor/urllib3/request.py'),\n",
       " PosixPath('MyProject/solar/lib/python3.7/site-packages/pip/_vendor/urllib3/contrib/__init__.py'),\n",
       " PosixPath('MyProject/solar/lib/python3.7/site-packages/pip/_vendor/urllib3/contrib/ntlmpool.py'),\n",
       " PosixPath('MyProject/solar/lib/python3.7/site-packages/pip/_vendor/urllib3/contrib/pyopenssl.py'),\n",
       " PosixPath('MyProject/solar/lib/python3.7/site-packages/pip/_vendor/urllib3/contrib/socks.py'),\n",
       " PosixPath('MyProject/solar/lib/python3.7/site-packages/pip/_vendor/urllib3/contrib/_appengine_environ.py'),\n",
       " PosixPath('MyProject/solar/lib/python3.7/site-packages/pip/_vendor/urllib3/contrib/securetransport.py'),\n",
       " PosixPath('MyProject/solar/lib/python3.7/site-packages/pip/_vendor/urllib3/contrib/appengine.py'),\n",
       " PosixPath('MyProject/solar/lib/python3.7/site-packages/pip/_vendor/urllib3/contrib/_securetransport/bindings.py'),\n",
       " PosixPath('MyProject/solar/lib/python3.7/site-packages/pip/_vendor/urllib3/contrib/_securetransport/__init__.py'),\n",
       " PosixPath('MyProject/solar/lib/python3.7/site-packages/pip/_vendor/urllib3/contrib/_securetransport/low_level.py'),\n",
       " PosixPath('MyProject/solar/lib/python3.7/site-packages/pip/_vendor/urllib3/util/connection.py'),\n",
       " PosixPath('MyProject/solar/lib/python3.7/site-packages/pip/_vendor/urllib3/util/__init__.py'),\n",
       " PosixPath('MyProject/solar/lib/python3.7/site-packages/pip/_vendor/urllib3/util/queue.py'),\n",
       " PosixPath('MyProject/solar/lib/python3.7/site-packages/pip/_vendor/urllib3/util/retry.py'),\n",
       " PosixPath('MyProject/solar/lib/python3.7/site-packages/pip/_vendor/urllib3/util/url.py'),\n",
       " PosixPath('MyProject/solar/lib/python3.7/site-packages/pip/_vendor/urllib3/util/wait.py'),\n",
       " PosixPath('MyProject/solar/lib/python3.7/site-packages/pip/_vendor/urllib3/util/ssl_.py'),\n",
       " PosixPath('MyProject/solar/lib/python3.7/site-packages/pip/_vendor/urllib3/util/response.py'),\n",
       " PosixPath('MyProject/solar/lib/python3.7/site-packages/pip/_vendor/urllib3/util/timeout.py'),\n",
       " PosixPath('MyProject/solar/lib/python3.7/site-packages/pip/_vendor/urllib3/util/request.py'),\n",
       " PosixPath('MyProject/solar/lib/python3.7/site-packages/pip/_vendor/urllib3/packages/__init__.py'),\n",
       " PosixPath('MyProject/solar/lib/python3.7/site-packages/pip/_vendor/urllib3/packages/six.py'),\n",
       " PosixPath('MyProject/solar/lib/python3.7/site-packages/pip/_vendor/urllib3/packages/backports/__init__.py'),\n",
       " PosixPath('MyProject/solar/lib/python3.7/site-packages/pip/_vendor/urllib3/packages/backports/makefile.py'),\n",
       " PosixPath('MyProject/solar/lib/python3.7/site-packages/pip/_vendor/urllib3/packages/ssl_match_hostname/_implementation.py'),\n",
       " PosixPath('MyProject/solar/lib/python3.7/site-packages/pip/_vendor/urllib3/packages/ssl_match_hostname/__init__.py'),\n",
       " PosixPath('MyProject/solar/lib/python3.7/site-packages/pip/_vendor/pytoml/__init__.py'),\n",
       " PosixPath('MyProject/solar/lib/python3.7/site-packages/pip/_vendor/pytoml/parser.py'),\n",
       " PosixPath('MyProject/solar/lib/python3.7/site-packages/pip/_vendor/pytoml/utils.py'),\n",
       " PosixPath('MyProject/solar/lib/python3.7/site-packages/pip/_vendor/pytoml/core.py'),\n",
       " PosixPath('MyProject/solar/lib/python3.7/site-packages/pip/_vendor/pytoml/test.py'),\n",
       " PosixPath('MyProject/solar/lib/python3.7/site-packages/pip/_vendor/pytoml/writer.py'),\n",
       " PosixPath('MyProject/solar/lib/python3.7/site-packages/pip/_vendor/idna/__init__.py'),\n",
       " PosixPath('MyProject/solar/lib/python3.7/site-packages/pip/_vendor/idna/codec.py'),\n",
       " PosixPath('MyProject/solar/lib/python3.7/site-packages/pip/_vendor/idna/uts46data.py'),\n",
       " PosixPath('MyProject/solar/lib/python3.7/site-packages/pip/_vendor/idna/package_data.py'),\n",
       " PosixPath('MyProject/solar/lib/python3.7/site-packages/pip/_vendor/idna/idnadata.py'),\n",
       " PosixPath('MyProject/solar/lib/python3.7/site-packages/pip/_vendor/idna/core.py'),\n",
       " PosixPath('MyProject/solar/lib/python3.7/site-packages/pip/_vendor/idna/compat.py'),\n",
       " PosixPath('MyProject/solar/lib/python3.7/site-packages/pip/_vendor/idna/intranges.py'),\n",
       " PosixPath('MyProject/solar/lib/python3.7/site-packages/pip/_vendor/distlib/__init__.py'),\n",
       " PosixPath('MyProject/solar/lib/python3.7/site-packages/pip/_vendor/distlib/locators.py'),\n",
       " PosixPath('MyProject/solar/lib/python3.7/site-packages/pip/_vendor/distlib/metadata.py'),\n",
       " PosixPath('MyProject/solar/lib/python3.7/site-packages/pip/_vendor/distlib/wheel.py'),\n",
       " PosixPath('MyProject/solar/lib/python3.7/site-packages/pip/_vendor/distlib/scripts.py'),\n",
       " PosixPath('MyProject/solar/lib/python3.7/site-packages/pip/_vendor/distlib/manifest.py'),\n",
       " PosixPath('MyProject/solar/lib/python3.7/site-packages/pip/_vendor/distlib/markers.py'),\n",
       " PosixPath('MyProject/solar/lib/python3.7/site-packages/pip/_vendor/distlib/database.py'),\n",
       " PosixPath('MyProject/solar/lib/python3.7/site-packages/pip/_vendor/distlib/resources.py'),\n",
       " PosixPath('MyProject/solar/lib/python3.7/site-packages/pip/_vendor/distlib/util.py'),\n",
       " PosixPath('MyProject/solar/lib/python3.7/site-packages/pip/_vendor/distlib/version.py'),\n",
       " PosixPath('MyProject/solar/lib/python3.7/site-packages/pip/_vendor/distlib/compat.py'),\n",
       " PosixPath('MyProject/solar/lib/python3.7/site-packages/pip/_vendor/distlib/index.py'),\n",
       " PosixPath('MyProject/solar/lib/python3.7/site-packages/pip/_vendor/distlib/_backport/__init__.py'),\n",
       " PosixPath('MyProject/solar/lib/python3.7/site-packages/pip/_vendor/distlib/_backport/misc.py'),\n",
       " PosixPath('MyProject/solar/lib/python3.7/site-packages/pip/_vendor/distlib/_backport/sysconfig.py'),\n",
       " PosixPath('MyProject/solar/lib/python3.7/site-packages/pip/_vendor/distlib/_backport/shutil.py'),\n",
       " PosixPath('MyProject/solar/lib/python3.7/site-packages/pip/_vendor/distlib/_backport/tarfile.py'),\n",
       " PosixPath('MyProject/solar/lib/python3.7/site-packages/pip/_vendor/pep517/__init__.py'),\n",
       " PosixPath('MyProject/solar/lib/python3.7/site-packages/pip/_vendor/pep517/envbuild.py'),\n",
       " PosixPath('MyProject/solar/lib/python3.7/site-packages/pip/_vendor/pep517/colorlog.py'),\n",
       " PosixPath('MyProject/solar/lib/python3.7/site-packages/pip/_vendor/pep517/check.py'),\n",
       " PosixPath('MyProject/solar/lib/python3.7/site-packages/pip/_vendor/pep517/build.py'),\n",
       " PosixPath('MyProject/solar/lib/python3.7/site-packages/pip/_vendor/pep517/compat.py'),\n",
       " PosixPath('MyProject/solar/lib/python3.7/site-packages/pip/_vendor/pep517/wrappers.py'),\n",
       " PosixPath('MyProject/solar/lib/python3.7/site-packages/pip/_vendor/pep517/_in_process.py'),\n",
       " PosixPath('MyProject/solar/lib/python3.7/site-packages/pip/_vendor/webencodings/__init__.py'),\n",
       " PosixPath('MyProject/solar/lib/python3.7/site-packages/pip/_vendor/webencodings/labels.py'),\n",
       " PosixPath('MyProject/solar/lib/python3.7/site-packages/pip/_vendor/webencodings/mklabels.py'),\n",
       " PosixPath('MyProject/solar/lib/python3.7/site-packages/pip/_vendor/webencodings/x_user_defined.py'),\n",
       " PosixPath('MyProject/solar/lib/python3.7/site-packages/pip/_vendor/webencodings/tests.py'),\n",
       " PosixPath('MyProject/solar/lib/python3.7/site-packages/pip/_vendor/msgpack/exceptions.py'),\n",
       " PosixPath('MyProject/solar/lib/python3.7/site-packages/pip/_vendor/msgpack/__init__.py'),\n",
       " PosixPath('MyProject/solar/lib/python3.7/site-packages/pip/_vendor/msgpack/fallback.py'),\n",
       " PosixPath('MyProject/solar/lib/python3.7/site-packages/pip/_vendor/msgpack/_version.py'),\n",
       " PosixPath('MyProject/solar/lib/python3.7/site-packages/pip/_vendor/chardet/sjisprober.py'),\n",
       " PosixPath('MyProject/solar/lib/python3.7/site-packages/pip/_vendor/chardet/euctwprober.py'),\n",
       " PosixPath('MyProject/solar/lib/python3.7/site-packages/pip/_vendor/chardet/langbulgarianmodel.py'),\n",
       " PosixPath('MyProject/solar/lib/python3.7/site-packages/pip/_vendor/chardet/langhebrewmodel.py'),\n",
       " PosixPath('MyProject/solar/lib/python3.7/site-packages/pip/_vendor/chardet/__init__.py'),\n",
       " PosixPath('MyProject/solar/lib/python3.7/site-packages/pip/_vendor/chardet/langhungarianmodel.py'),\n",
       " PosixPath('MyProject/solar/lib/python3.7/site-packages/pip/_vendor/chardet/chardistribution.py'),\n",
       " PosixPath('MyProject/solar/lib/python3.7/site-packages/pip/_vendor/chardet/escprober.py'),\n",
       " PosixPath('MyProject/solar/lib/python3.7/site-packages/pip/_vendor/chardet/cp949prober.py'),\n",
       " PosixPath('MyProject/solar/lib/python3.7/site-packages/pip/_vendor/chardet/big5freq.py'),\n",
       " PosixPath('MyProject/solar/lib/python3.7/site-packages/pip/_vendor/chardet/gb2312prober.py'),\n",
       " PosixPath('MyProject/solar/lib/python3.7/site-packages/pip/_vendor/chardet/enums.py'),\n",
       " PosixPath('MyProject/solar/lib/python3.7/site-packages/pip/_vendor/chardet/mbcsgroupprober.py'),\n",
       " PosixPath('MyProject/solar/lib/python3.7/site-packages/pip/_vendor/chardet/big5prober.py'),\n",
       " PosixPath('MyProject/solar/lib/python3.7/site-packages/pip/_vendor/chardet/langturkishmodel.py'),\n",
       " PosixPath('MyProject/solar/lib/python3.7/site-packages/pip/_vendor/chardet/mbcssm.py'),\n",
       " PosixPath('MyProject/solar/lib/python3.7/site-packages/pip/_vendor/chardet/codingstatemachine.py'),\n",
       " PosixPath('MyProject/solar/lib/python3.7/site-packages/pip/_vendor/chardet/universaldetector.py'),\n",
       " PosixPath('MyProject/solar/lib/python3.7/site-packages/pip/_vendor/chardet/jpcntx.py'),\n",
       " PosixPath('MyProject/solar/lib/python3.7/site-packages/pip/_vendor/chardet/langthaimodel.py'),\n",
       " PosixPath('MyProject/solar/lib/python3.7/site-packages/pip/_vendor/chardet/charsetprober.py'),\n",
       " PosixPath('MyProject/solar/lib/python3.7/site-packages/pip/_vendor/chardet/euckrprober.py'),\n",
       " PosixPath('MyProject/solar/lib/python3.7/site-packages/pip/_vendor/chardet/utf8prober.py'),\n",
       " PosixPath('MyProject/solar/lib/python3.7/site-packages/pip/_vendor/chardet/eucjpprober.py'),\n",
       " PosixPath('MyProject/solar/lib/python3.7/site-packages/pip/_vendor/chardet/version.py'),\n",
       " PosixPath('MyProject/solar/lib/python3.7/site-packages/pip/_vendor/chardet/euctwfreq.py'),\n",
       " PosixPath('MyProject/solar/lib/python3.7/site-packages/pip/_vendor/chardet/escsm.py'),\n",
       " PosixPath('MyProject/solar/lib/python3.7/site-packages/pip/_vendor/chardet/latin1prober.py'),\n",
       " PosixPath('MyProject/solar/lib/python3.7/site-packages/pip/_vendor/chardet/langgreekmodel.py'),\n",
       " PosixPath('MyProject/solar/lib/python3.7/site-packages/pip/_vendor/chardet/langcyrillicmodel.py'),\n",
       " PosixPath('MyProject/solar/lib/python3.7/site-packages/pip/_vendor/chardet/compat.py'),\n",
       " PosixPath('MyProject/solar/lib/python3.7/site-packages/pip/_vendor/chardet/hebrewprober.py'),\n",
       " PosixPath('MyProject/solar/lib/python3.7/site-packages/pip/_vendor/chardet/euckrfreq.py'),\n",
       " PosixPath('MyProject/solar/lib/python3.7/site-packages/pip/_vendor/chardet/jisfreq.py'),\n",
       " PosixPath('MyProject/solar/lib/python3.7/site-packages/pip/_vendor/chardet/charsetgroupprober.py'),\n",
       " PosixPath('MyProject/solar/lib/python3.7/site-packages/pip/_vendor/chardet/sbcharsetprober.py'),\n",
       " PosixPath('MyProject/solar/lib/python3.7/site-packages/pip/_vendor/chardet/mbcharsetprober.py'),\n",
       " PosixPath('MyProject/solar/lib/python3.7/site-packages/pip/_vendor/chardet/sbcsgroupprober.py'),\n",
       " PosixPath('MyProject/solar/lib/python3.7/site-packages/pip/_vendor/chardet/gb2312freq.py'),\n",
       " PosixPath('MyProject/solar/lib/python3.7/site-packages/pip/_vendor/chardet/cli/__init__.py'),\n",
       " PosixPath('MyProject/solar/lib/python3.7/site-packages/pip/_vendor/chardet/cli/chardetect.py'),\n",
       " PosixPath('MyProject/solar/lib/python3.7/site-packages/pip/_vendor/cachecontrol/wrapper.py'),\n",
       " PosixPath('MyProject/solar/lib/python3.7/site-packages/pip/_vendor/cachecontrol/__init__.py'),\n",
       " PosixPath('MyProject/solar/lib/python3.7/site-packages/pip/_vendor/cachecontrol/_cmd.py'),\n",
       " PosixPath('MyProject/solar/lib/python3.7/site-packages/pip/_vendor/cachecontrol/filewrapper.py'),\n",
       " PosixPath('MyProject/solar/lib/python3.7/site-packages/pip/_vendor/cachecontrol/compat.py'),\n",
       " PosixPath('MyProject/solar/lib/python3.7/site-packages/pip/_vendor/cachecontrol/adapter.py'),\n",
       " PosixPath('MyProject/solar/lib/python3.7/site-packages/pip/_vendor/cachecontrol/heuristics.py'),\n",
       " PosixPath('MyProject/solar/lib/python3.7/site-packages/pip/_vendor/cachecontrol/controller.py'),\n",
       " PosixPath('MyProject/solar/lib/python3.7/site-packages/pip/_vendor/cachecontrol/cache.py'),\n",
       " PosixPath('MyProject/solar/lib/python3.7/site-packages/pip/_vendor/cachecontrol/serialize.py'),\n",
       " PosixPath('MyProject/solar/lib/python3.7/site-packages/pip/_vendor/cachecontrol/caches/__init__.py'),\n",
       " PosixPath('MyProject/solar/lib/python3.7/site-packages/pip/_vendor/cachecontrol/caches/redis_cache.py'),\n",
       " PosixPath('MyProject/solar/lib/python3.7/site-packages/pip/_vendor/cachecontrol/caches/file_cache.py'),\n",
       " PosixPath('MyProject/solar/lib/python3.7/site-packages/pip/_vendor/packaging/__init__.py'),\n",
       " PosixPath('MyProject/solar/lib/python3.7/site-packages/pip/_vendor/packaging/__about__.py'),\n",
       " PosixPath('MyProject/solar/lib/python3.7/site-packages/pip/_vendor/packaging/requirements.py'),\n",
       " PosixPath('MyProject/solar/lib/python3.7/site-packages/pip/_vendor/packaging/_structures.py'),\n",
       " PosixPath('MyProject/solar/lib/python3.7/site-packages/pip/_vendor/packaging/utils.py'),\n",
       " PosixPath('MyProject/solar/lib/python3.7/site-packages/pip/_vendor/packaging/markers.py'),\n",
       " PosixPath('MyProject/solar/lib/python3.7/site-packages/pip/_vendor/packaging/version.py'),\n",
       " PosixPath('MyProject/solar/lib/python3.7/site-packages/pip/_vendor/packaging/specifiers.py'),\n",
       " PosixPath('MyProject/solar/lib/python3.7/site-packages/pip/_vendor/packaging/_compat.py'),\n",
       " PosixPath('MyProject/solar/lib/python3.7/site-packages/pip/_vendor/html5lib/__init__.py'),\n",
       " PosixPath('MyProject/solar/lib/python3.7/site-packages/pip/_vendor/html5lib/_tokenizer.py'),\n",
       " PosixPath('MyProject/solar/lib/python3.7/site-packages/pip/_vendor/html5lib/serializer.py'),\n",
       " PosixPath('MyProject/solar/lib/python3.7/site-packages/pip/_vendor/html5lib/_utils.py'),\n",
       " PosixPath('MyProject/solar/lib/python3.7/site-packages/pip/_vendor/html5lib/html5parser.py'),\n",
       " PosixPath('MyProject/solar/lib/python3.7/site-packages/pip/_vendor/html5lib/constants.py'),\n",
       " PosixPath('MyProject/solar/lib/python3.7/site-packages/pip/_vendor/html5lib/_inputstream.py'),\n",
       " PosixPath('MyProject/solar/lib/python3.7/site-packages/pip/_vendor/html5lib/_ihatexml.py'),\n",
       " PosixPath('MyProject/solar/lib/python3.7/site-packages/pip/_vendor/html5lib/_trie/__init__.py'),\n",
       " PosixPath('MyProject/solar/lib/python3.7/site-packages/pip/_vendor/html5lib/_trie/_base.py'),\n",
       " PosixPath('MyProject/solar/lib/python3.7/site-packages/pip/_vendor/html5lib/_trie/datrie.py'),\n",
       " PosixPath('MyProject/solar/lib/python3.7/site-packages/pip/_vendor/html5lib/_trie/py.py'),\n",
       " PosixPath('MyProject/solar/lib/python3.7/site-packages/pip/_vendor/html5lib/treeadapters/__init__.py'),\n",
       " PosixPath('MyProject/solar/lib/python3.7/site-packages/pip/_vendor/html5lib/treeadapters/sax.py'),\n",
       " PosixPath('MyProject/solar/lib/python3.7/site-packages/pip/_vendor/html5lib/treeadapters/genshi.py'),\n",
       " PosixPath('MyProject/solar/lib/python3.7/site-packages/pip/_vendor/html5lib/filters/alphabeticalattributes.py'),\n",
       " PosixPath('MyProject/solar/lib/python3.7/site-packages/pip/_vendor/html5lib/filters/__init__.py'),\n",
       " PosixPath('MyProject/solar/lib/python3.7/site-packages/pip/_vendor/html5lib/filters/lint.py'),\n",
       " PosixPath('MyProject/solar/lib/python3.7/site-packages/pip/_vendor/html5lib/filters/sanitizer.py'),\n",
       " PosixPath('MyProject/solar/lib/python3.7/site-packages/pip/_vendor/html5lib/filters/optionaltags.py'),\n",
       " PosixPath('MyProject/solar/lib/python3.7/site-packages/pip/_vendor/html5lib/filters/whitespace.py'),\n",
       " PosixPath('MyProject/solar/lib/python3.7/site-packages/pip/_vendor/html5lib/filters/base.py'),\n",
       " PosixPath('MyProject/solar/lib/python3.7/site-packages/pip/_vendor/html5lib/filters/inject_meta_charset.py'),\n",
       " PosixPath('MyProject/solar/lib/python3.7/site-packages/pip/_vendor/html5lib/treebuilders/__init__.py'),\n",
       " PosixPath('MyProject/solar/lib/python3.7/site-packages/pip/_vendor/html5lib/treebuilders/dom.py'),\n",
       " PosixPath('MyProject/solar/lib/python3.7/site-packages/pip/_vendor/html5lib/treebuilders/etree.py'),\n",
       " PosixPath('MyProject/solar/lib/python3.7/site-packages/pip/_vendor/html5lib/treebuilders/base.py'),\n",
       " PosixPath('MyProject/solar/lib/python3.7/site-packages/pip/_vendor/html5lib/treebuilders/etree_lxml.py'),\n",
       " PosixPath('MyProject/solar/lib/python3.7/site-packages/pip/_vendor/html5lib/treewalkers/__init__.py'),\n",
       " PosixPath('MyProject/solar/lib/python3.7/site-packages/pip/_vendor/html5lib/treewalkers/dom.py'),\n",
       " PosixPath('MyProject/solar/lib/python3.7/site-packages/pip/_vendor/html5lib/treewalkers/genshi.py'),\n",
       " PosixPath('MyProject/solar/lib/python3.7/site-packages/pip/_vendor/html5lib/treewalkers/etree.py'),\n",
       " PosixPath('MyProject/solar/lib/python3.7/site-packages/pip/_vendor/html5lib/treewalkers/base.py'),\n",
       " PosixPath('MyProject/solar/lib/python3.7/site-packages/pip/_vendor/html5lib/treewalkers/etree_lxml.py'),\n",
       " PosixPath('MyProject/solar/lib/python3.7/site-packages/pip/_vendor/certifi/__init__.py'),\n",
       " PosixPath('MyProject/solar/lib/python3.7/site-packages/pip/_vendor/certifi/__main__.py'),\n",
       " PosixPath('MyProject/solar/lib/python3.7/site-packages/pip/_vendor/certifi/core.py'),\n",
       " PosixPath('MyProject/solar/lib/python3.7/site-packages/pip/_vendor/colorama/__init__.py'),\n",
       " PosixPath('MyProject/solar/lib/python3.7/site-packages/pip/_vendor/colorama/win32.py'),\n",
       " PosixPath('MyProject/solar/lib/python3.7/site-packages/pip/_vendor/colorama/ansitowin32.py'),\n",
       " PosixPath('MyProject/solar/lib/python3.7/site-packages/pip/_vendor/colorama/ansi.py'),\n",
       " PosixPath('MyProject/solar/lib/python3.7/site-packages/pip/_vendor/colorama/initialise.py'),\n",
       " PosixPath('MyProject/solar/lib/python3.7/site-packages/pip/_vendor/colorama/winterm.py'),\n",
       " PosixPath('MyProject/solar/lib/python3.7/site-packages/pip/_vendor/pkg_resources/__init__.py'),\n",
       " PosixPath('MyProject/solar/lib/python3.7/site-packages/pip/_vendor/pkg_resources/py31compat.py'),\n",
       " PosixPath('MyProject/solar/lib/python3.7/site-packages/pip/_vendor/lockfile/__init__.py'),\n",
       " PosixPath('MyProject/solar/lib/python3.7/site-packages/pip/_vendor/lockfile/sqlitelockfile.py'),\n",
       " PosixPath('MyProject/solar/lib/python3.7/site-packages/pip/_vendor/lockfile/symlinklockfile.py'),\n",
       " PosixPath('MyProject/solar/lib/python3.7/site-packages/pip/_vendor/lockfile/mkdirlockfile.py'),\n",
       " PosixPath('MyProject/solar/lib/python3.7/site-packages/pip/_vendor/lockfile/pidlockfile.py'),\n",
       " PosixPath('MyProject/solar/lib/python3.7/site-packages/pip/_vendor/lockfile/linklockfile.py'),\n",
       " PosixPath('MyProject/solar/lib/python3.7/site-packages/pip/_internal/exceptions.py'),\n",
       " PosixPath('MyProject/solar/lib/python3.7/site-packages/pip/_internal/__init__.py'),\n",
       " PosixPath('MyProject/solar/lib/python3.7/site-packages/pip/_internal/wheel.py'),\n",
       " PosixPath('MyProject/solar/lib/python3.7/site-packages/pip/_internal/locations.py'),\n",
       " PosixPath('MyProject/solar/lib/python3.7/site-packages/pip/_internal/build_env.py'),\n",
       " PosixPath('MyProject/solar/lib/python3.7/site-packages/pip/_internal/pep425tags.py'),\n",
       " PosixPath('MyProject/solar/lib/python3.7/site-packages/pip/_internal/pyproject.py'),\n",
       " PosixPath('MyProject/solar/lib/python3.7/site-packages/pip/_internal/configuration.py'),\n",
       " PosixPath('MyProject/solar/lib/python3.7/site-packages/pip/_internal/resolve.py'),\n",
       " PosixPath('MyProject/solar/lib/python3.7/site-packages/pip/_internal/index.py'),\n",
       " PosixPath('MyProject/solar/lib/python3.7/site-packages/pip/_internal/download.py'),\n",
       " PosixPath('MyProject/solar/lib/python3.7/site-packages/pip/_internal/cache.py'),\n",
       " PosixPath('MyProject/solar/lib/python3.7/site-packages/pip/_internal/operations/__init__.py'),\n",
       " PosixPath('MyProject/solar/lib/python3.7/site-packages/pip/_internal/operations/freeze.py'),\n",
       " PosixPath('MyProject/solar/lib/python3.7/site-packages/pip/_internal/operations/prepare.py'),\n",
       " PosixPath('MyProject/solar/lib/python3.7/site-packages/pip/_internal/operations/check.py'),\n",
       " PosixPath('MyProject/solar/lib/python3.7/site-packages/pip/_internal/commands/__init__.py'),\n",
       " PosixPath('MyProject/solar/lib/python3.7/site-packages/pip/_internal/commands/uninstall.py'),\n",
       " PosixPath('MyProject/solar/lib/python3.7/site-packages/pip/_internal/commands/freeze.py'),\n",
       " PosixPath('MyProject/solar/lib/python3.7/site-packages/pip/_internal/commands/list.py'),\n",
       " PosixPath('MyProject/solar/lib/python3.7/site-packages/pip/_internal/commands/search.py'),\n",
       " PosixPath('MyProject/solar/lib/python3.7/site-packages/pip/_internal/commands/help.py'),\n",
       " PosixPath('MyProject/solar/lib/python3.7/site-packages/pip/_internal/commands/wheel.py'),\n",
       " PosixPath('MyProject/solar/lib/python3.7/site-packages/pip/_internal/commands/completion.py'),\n",
       " PosixPath('MyProject/solar/lib/python3.7/site-packages/pip/_internal/commands/install.py'),\n",
       " PosixPath('MyProject/solar/lib/python3.7/site-packages/pip/_internal/commands/show.py'),\n",
       " PosixPath('MyProject/solar/lib/python3.7/site-packages/pip/_internal/commands/check.py'),\n",
       " PosixPath('MyProject/solar/lib/python3.7/site-packages/pip/_internal/commands/hash.py'),\n",
       " PosixPath('MyProject/solar/lib/python3.7/site-packages/pip/_internal/commands/configuration.py'),\n",
       " PosixPath('MyProject/solar/lib/python3.7/site-packages/pip/_internal/commands/download.py'),\n",
       " PosixPath('MyProject/solar/lib/python3.7/site-packages/pip/_internal/models/__init__.py'),\n",
       " PosixPath('MyProject/solar/lib/python3.7/site-packages/pip/_internal/models/link.py'),\n",
       " PosixPath('MyProject/solar/lib/python3.7/site-packages/pip/_internal/models/format_control.py'),\n",
       " PosixPath('MyProject/solar/lib/python3.7/site-packages/pip/_internal/models/index.py'),\n",
       " PosixPath('MyProject/solar/lib/python3.7/site-packages/pip/_internal/models/candidate.py'),\n",
       " PosixPath('MyProject/solar/lib/python3.7/site-packages/pip/_internal/vcs/__init__.py'),\n",
       " PosixPath('MyProject/solar/lib/python3.7/site-packages/pip/_internal/vcs/bazaar.py'),\n",
       " PosixPath('MyProject/solar/lib/python3.7/site-packages/pip/_internal/vcs/git.py'),\n",
       " PosixPath('MyProject/solar/lib/python3.7/site-packages/pip/_internal/vcs/mercurial.py'),\n",
       " PosixPath('MyProject/solar/lib/python3.7/site-packages/pip/_internal/vcs/subversion.py'),\n",
       " PosixPath('MyProject/solar/lib/python3.7/site-packages/pip/_internal/cli/__init__.py'),\n",
       " PosixPath('MyProject/solar/lib/python3.7/site-packages/pip/_internal/cli/parser.py'),\n",
       " PosixPath('MyProject/solar/lib/python3.7/site-packages/pip/_internal/cli/cmdoptions.py'),\n",
       " PosixPath('MyProject/solar/lib/python3.7/site-packages/pip/_internal/cli/base_command.py'),\n",
       " PosixPath('MyProject/solar/lib/python3.7/site-packages/pip/_internal/cli/status_codes.py'),\n",
       " PosixPath('MyProject/solar/lib/python3.7/site-packages/pip/_internal/cli/main_parser.py'),\n",
       " PosixPath('MyProject/solar/lib/python3.7/site-packages/pip/_internal/cli/autocompletion.py'),\n",
       " PosixPath('MyProject/solar/lib/python3.7/site-packages/pip/_internal/utils/hashes.py'),\n",
       " PosixPath('MyProject/solar/lib/python3.7/site-packages/pip/_internal/utils/__init__.py'),\n",
       " PosixPath('MyProject/solar/lib/python3.7/site-packages/pip/_internal/utils/ui.py'),\n",
       " PosixPath('MyProject/solar/lib/python3.7/site-packages/pip/_internal/utils/filesystem.py'),\n",
       " PosixPath('MyProject/solar/lib/python3.7/site-packages/pip/_internal/utils/encoding.py'),\n",
       " PosixPath('MyProject/solar/lib/python3.7/site-packages/pip/_internal/utils/misc.py'),\n",
       " PosixPath('MyProject/solar/lib/python3.7/site-packages/pip/_internal/utils/setuptools_build.py'),\n",
       " PosixPath('MyProject/solar/lib/python3.7/site-packages/pip/_internal/utils/glibc.py'),\n",
       " PosixPath('MyProject/solar/lib/python3.7/site-packages/pip/_internal/utils/models.py'),\n",
       " PosixPath('MyProject/solar/lib/python3.7/site-packages/pip/_internal/utils/temp_dir.py'),\n",
       " PosixPath('MyProject/solar/lib/python3.7/site-packages/pip/_internal/utils/outdated.py'),\n",
       " PosixPath('MyProject/solar/lib/python3.7/site-packages/pip/_internal/utils/deprecation.py'),\n",
       " PosixPath('MyProject/solar/lib/python3.7/site-packages/pip/_internal/utils/compat.py'),\n",
       " PosixPath('MyProject/solar/lib/python3.7/site-packages/pip/_internal/utils/appdirs.py'),\n",
       " PosixPath('MyProject/solar/lib/python3.7/site-packages/pip/_internal/utils/typing.py'),\n",
       " PosixPath('MyProject/solar/lib/python3.7/site-packages/pip/_internal/utils/logging.py'),\n",
       " PosixPath('MyProject/solar/lib/python3.7/site-packages/pip/_internal/utils/packaging.py'),\n",
       " PosixPath('MyProject/solar/lib/python3.7/site-packages/pip/_internal/req/req_uninstall.py'),\n",
       " PosixPath('MyProject/solar/lib/python3.7/site-packages/pip/_internal/req/__init__.py'),\n",
       " PosixPath('MyProject/solar/lib/python3.7/site-packages/pip/_internal/req/req_install.py'),\n",
       " PosixPath('MyProject/solar/lib/python3.7/site-packages/pip/_internal/req/req_tracker.py'),\n",
       " PosixPath('MyProject/solar/lib/python3.7/site-packages/pip/_internal/req/constructors.py'),\n",
       " PosixPath('MyProject/solar/lib/python3.7/site-packages/pip/_internal/req/req_set.py'),\n",
       " PosixPath('MyProject/solar/lib/python3.7/site-packages/pip/_internal/req/req_file.py'),\n",
       " PosixPath('MyProject/solar/lib/python3.7/site-packages/setuptools/py33compat.py'),\n",
       " PosixPath('MyProject/solar/lib/python3.7/site-packages/setuptools/__init__.py'),\n",
       " PosixPath('MyProject/solar/lib/python3.7/site-packages/setuptools/build_meta.py'),\n",
       " PosixPath('MyProject/solar/lib/python3.7/site-packages/setuptools/glob.py'),\n",
       " PosixPath('MyProject/solar/lib/python3.7/site-packages/setuptools/namespaces.py'),\n",
       " PosixPath('MyProject/solar/lib/python3.7/site-packages/setuptools/py31compat.py'),\n",
       " PosixPath('MyProject/solar/lib/python3.7/site-packages/setuptools/ssl_support.py'),\n",
       " PosixPath('MyProject/solar/lib/python3.7/site-packages/setuptools/unicode_utils.py'),\n",
       " PosixPath('MyProject/solar/lib/python3.7/site-packages/setuptools/_deprecation_warning.py'),\n",
       " PosixPath('MyProject/solar/lib/python3.7/site-packages/setuptools/extension.py'),\n",
       " PosixPath('MyProject/solar/lib/python3.7/site-packages/setuptools/msvc.py'),\n",
       " PosixPath('MyProject/solar/lib/python3.7/site-packages/setuptools/dep_util.py'),\n",
       " PosixPath('MyProject/solar/lib/python3.7/site-packages/setuptools/wheel.py'),\n",
       " PosixPath('MyProject/solar/lib/python3.7/site-packages/setuptools/package_index.py'),\n",
       " PosixPath('MyProject/solar/lib/python3.7/site-packages/setuptools/launch.py'),\n",
       " PosixPath('MyProject/solar/lib/python3.7/site-packages/setuptools/pep425tags.py'),\n",
       " PosixPath('MyProject/solar/lib/python3.7/site-packages/setuptools/monkey.py'),\n",
       " PosixPath('MyProject/solar/lib/python3.7/site-packages/setuptools/glibc.py'),\n",
       " PosixPath('MyProject/solar/lib/python3.7/site-packages/setuptools/config.py'),\n",
       " PosixPath('MyProject/solar/lib/python3.7/site-packages/setuptools/site-patch.py'),\n",
       " PosixPath('MyProject/solar/lib/python3.7/site-packages/setuptools/archive_util.py'),\n",
       " PosixPath('MyProject/solar/lib/python3.7/site-packages/setuptools/py27compat.py'),\n",
       " PosixPath('MyProject/solar/lib/python3.7/site-packages/setuptools/sandbox.py'),\n",
       " PosixPath('MyProject/solar/lib/python3.7/site-packages/setuptools/version.py'),\n",
       " PosixPath('MyProject/solar/lib/python3.7/site-packages/setuptools/windows_support.py'),\n",
       " PosixPath('MyProject/solar/lib/python3.7/site-packages/setuptools/depends.py'),\n",
       " PosixPath('MyProject/solar/lib/python3.7/site-packages/setuptools/lib2to3_ex.py'),\n",
       " PosixPath('MyProject/solar/lib/python3.7/site-packages/setuptools/dist.py'),\n",
       " PosixPath('MyProject/solar/lib/python3.7/site-packages/setuptools/command/__init__.py'),\n",
       " PosixPath('MyProject/solar/lib/python3.7/site-packages/setuptools/command/install_lib.py'),\n",
       " PosixPath('MyProject/solar/lib/python3.7/site-packages/setuptools/command/dist_info.py'),\n",
       " PosixPath('MyProject/solar/lib/python3.7/site-packages/setuptools/command/py36compat.py'),\n",
       " PosixPath('MyProject/solar/lib/python3.7/site-packages/setuptools/command/build_clib.py'),\n",
       " PosixPath('MyProject/solar/lib/python3.7/site-packages/setuptools/command/build_ext.py'),\n",
       " PosixPath('MyProject/solar/lib/python3.7/site-packages/setuptools/command/upload_docs.py'),\n",
       " PosixPath('MyProject/solar/lib/python3.7/site-packages/setuptools/command/develop.py'),\n",
       " PosixPath('MyProject/solar/lib/python3.7/site-packages/setuptools/command/bdist_rpm.py'),\n",
       " PosixPath('MyProject/solar/lib/python3.7/site-packages/setuptools/command/install_egg_info.py'),\n",
       " PosixPath('MyProject/solar/lib/python3.7/site-packages/setuptools/command/install.py'),\n",
       " PosixPath('MyProject/solar/lib/python3.7/site-packages/setuptools/command/alias.py'),\n",
       " PosixPath('MyProject/solar/lib/python3.7/site-packages/setuptools/command/egg_info.py'),\n",
       " PosixPath('MyProject/solar/lib/python3.7/site-packages/setuptools/command/register.py'),\n",
       " PosixPath('MyProject/solar/lib/python3.7/site-packages/setuptools/command/setopt.py'),\n",
       " PosixPath('MyProject/solar/lib/python3.7/site-packages/setuptools/command/bdist_egg.py'),\n",
       " PosixPath('MyProject/solar/lib/python3.7/site-packages/setuptools/command/bdist_wininst.py'),\n",
       " PosixPath('MyProject/solar/lib/python3.7/site-packages/setuptools/command/test.py'),\n",
       " PosixPath('MyProject/solar/lib/python3.7/site-packages/setuptools/command/install_scripts.py'),\n",
       " PosixPath('MyProject/solar/lib/python3.7/site-packages/setuptools/command/sdist.py'),\n",
       " PosixPath('MyProject/solar/lib/python3.7/site-packages/setuptools/command/upload.py'),\n",
       " PosixPath('MyProject/solar/lib/python3.7/site-packages/setuptools/command/build_py.py'),\n",
       " PosixPath('MyProject/solar/lib/python3.7/site-packages/setuptools/command/saveopts.py'),\n",
       " PosixPath('MyProject/solar/lib/python3.7/site-packages/setuptools/command/rotate.py'),\n",
       " PosixPath('MyProject/solar/lib/python3.7/site-packages/setuptools/command/easy_install.py'),\n",
       " PosixPath('MyProject/solar/lib/python3.7/site-packages/setuptools/_vendor/__init__.py'),\n",
       " PosixPath('MyProject/solar/lib/python3.7/site-packages/setuptools/_vendor/pyparsing.py'),\n",
       " PosixPath('MyProject/solar/lib/python3.7/site-packages/setuptools/_vendor/six.py'),\n",
       " PosixPath('MyProject/solar/lib/python3.7/site-packages/setuptools/_vendor/packaging/__init__.py'),\n",
       " PosixPath('MyProject/solar/lib/python3.7/site-packages/setuptools/_vendor/packaging/__about__.py'),\n",
       " PosixPath('MyProject/solar/lib/python3.7/site-packages/setuptools/_vendor/packaging/requirements.py'),\n",
       " PosixPath('MyProject/solar/lib/python3.7/site-packages/setuptools/_vendor/packaging/_structures.py'),\n",
       " PosixPath('MyProject/solar/lib/python3.7/site-packages/setuptools/_vendor/packaging/utils.py'),\n",
       " PosixPath('MyProject/solar/lib/python3.7/site-packages/setuptools/_vendor/packaging/markers.py'),\n",
       " PosixPath('MyProject/solar/lib/python3.7/site-packages/setuptools/_vendor/packaging/version.py'),\n",
       " PosixPath('MyProject/solar/lib/python3.7/site-packages/setuptools/_vendor/packaging/specifiers.py'),\n",
       " PosixPath('MyProject/solar/lib/python3.7/site-packages/setuptools/_vendor/packaging/_compat.py'),\n",
       " PosixPath('MyProject/solar/lib/python3.7/site-packages/setuptools/extern/__init__.py'),\n",
       " PosixPath('MyProject/solar/lib/python3.7/site-packages/pkg_resources/__init__.py'),\n",
       " PosixPath('MyProject/solar/lib/python3.7/site-packages/pkg_resources/py31compat.py'),\n",
       " PosixPath('MyProject/solar/lib/python3.7/site-packages/pkg_resources/_vendor/__init__.py'),\n",
       " PosixPath('MyProject/solar/lib/python3.7/site-packages/pkg_resources/_vendor/pyparsing.py'),\n",
       " PosixPath('MyProject/solar/lib/python3.7/site-packages/pkg_resources/_vendor/six.py'),\n",
       " PosixPath('MyProject/solar/lib/python3.7/site-packages/pkg_resources/_vendor/appdirs.py'),\n",
       " PosixPath('MyProject/solar/lib/python3.7/site-packages/pkg_resources/_vendor/packaging/__init__.py'),\n",
       " PosixPath('MyProject/solar/lib/python3.7/site-packages/pkg_resources/_vendor/packaging/__about__.py'),\n",
       " PosixPath('MyProject/solar/lib/python3.7/site-packages/pkg_resources/_vendor/packaging/requirements.py'),\n",
       " PosixPath('MyProject/solar/lib/python3.7/site-packages/pkg_resources/_vendor/packaging/_structures.py'),\n",
       " PosixPath('MyProject/solar/lib/python3.7/site-packages/pkg_resources/_vendor/packaging/utils.py'),\n",
       " PosixPath('MyProject/solar/lib/python3.7/site-packages/pkg_resources/_vendor/packaging/markers.py'),\n",
       " PosixPath('MyProject/solar/lib/python3.7/site-packages/pkg_resources/_vendor/packaging/version.py'),\n",
       " PosixPath('MyProject/solar/lib/python3.7/site-packages/pkg_resources/_vendor/packaging/specifiers.py'),\n",
       " PosixPath('MyProject/solar/lib/python3.7/site-packages/pkg_resources/_vendor/packaging/_compat.py'),\n",
       " PosixPath('MyProject/solar/lib/python3.7/site-packages/pkg_resources/extern/__init__.py')]"
      ]
     },
     "execution_count": 17,
     "metadata": {},
     "output_type": "execute_result"
    }
   ],
   "source": [
    "list(p.glob('**/*.py'))"
   ]
  },
  {
   "cell_type": "code",
   "execution_count": 18,
   "metadata": {},
   "outputs": [
    {
     "data": {
      "text/plain": [
       "PosixPath('/etc/init.d/reboot')"
      ]
     },
     "execution_count": 18,
     "metadata": {},
     "output_type": "execute_result"
    }
   ],
   "source": [
    "p = Path('/etc')\n",
    "q = p / 'init.d' / 'reboot'\n",
    "q"
   ]
  },
  {
   "cell_type": "code",
   "execution_count": 19,
   "metadata": {},
   "outputs": [
    {
     "data": {
      "text/plain": [
       "PosixPath('/etc/init.d/reboot')"
      ]
     },
     "execution_count": 19,
     "metadata": {},
     "output_type": "execute_result"
    }
   ],
   "source": [
    "q.resolve()"
   ]
  },
  {
   "cell_type": "code",
   "execution_count": 20,
   "metadata": {},
   "outputs": [
    {
     "data": {
      "text/plain": [
       "False"
      ]
     },
     "execution_count": 20,
     "metadata": {},
     "output_type": "execute_result"
    }
   ],
   "source": [
    "q.exists()"
   ]
  },
  {
   "cell_type": "code",
   "execution_count": 21,
   "metadata": {},
   "outputs": [
    {
     "data": {
      "text/plain": [
       "False"
      ]
     },
     "execution_count": 21,
     "metadata": {},
     "output_type": "execute_result"
    }
   ],
   "source": [
    "q.is_dir()"
   ]
  },
  {
   "cell_type": "code",
   "execution_count": 22,
   "metadata": {},
   "outputs": [
    {
     "data": {
      "text/plain": [
       "PosixPath('/etc/init.d/reboot')"
      ]
     },
     "execution_count": 22,
     "metadata": {},
     "output_type": "execute_result"
    }
   ],
   "source": [
    "q"
   ]
  },
  {
   "cell_type": "code",
   "execution_count": 24,
   "metadata": {},
   "outputs": [
    {
     "data": {
      "text/plain": [
       "PurePosixPath('.')"
      ]
     },
     "execution_count": 24,
     "metadata": {},
     "output_type": "execute_result"
    }
   ],
   "source": [
    "from pathlib import PurePath\n",
    "PurePath()"
   ]
  },
  {
   "cell_type": "code",
   "execution_count": 25,
   "metadata": {},
   "outputs": [
    {
     "data": {
      "text/plain": [
       "PurePosixPath('setup.py')"
      ]
     },
     "execution_count": 25,
     "metadata": {},
     "output_type": "execute_result"
    }
   ],
   "source": [
    "PurePath('setup.py')"
   ]
  },
  {
   "cell_type": "code",
   "execution_count": 26,
   "metadata": {},
   "outputs": [
    {
     "data": {
      "text/plain": [
       "PurePosixPath('foo/some/path/bar')"
      ]
     },
     "execution_count": 26,
     "metadata": {},
     "output_type": "execute_result"
    }
   ],
   "source": [
    "PurePath('foo', 'some/path', 'bar')"
   ]
  },
  {
   "cell_type": "code",
   "execution_count": 27,
   "metadata": {},
   "outputs": [
    {
     "data": {
      "text/plain": [
       "PurePosixPath('foo/bar')"
      ]
     },
     "execution_count": 27,
     "metadata": {},
     "output_type": "execute_result"
    }
   ],
   "source": [
    "PurePath(Path('foo'), Path('bar'))"
   ]
  },
  {
   "cell_type": "code",
   "execution_count": null,
   "metadata": {},
   "outputs": [],
   "source": []
  }
 ],
 "metadata": {
  "kernelspec": {
   "display_name": "Python 3",
   "language": "python",
   "name": "python3"
  },
  "language_info": {
   "codemirror_mode": {
    "name": "ipython",
    "version": 3
   },
   "file_extension": ".py",
   "mimetype": "text/x-python",
   "name": "python",
   "nbconvert_exporter": "python",
   "pygments_lexer": "ipython3",
   "version": "3.7.3"
  }
 },
 "nbformat": 4,
 "nbformat_minor": 2
}

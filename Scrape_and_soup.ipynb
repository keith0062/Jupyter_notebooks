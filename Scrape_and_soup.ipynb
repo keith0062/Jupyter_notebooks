{
 "cells": [
  {
   "cell_type": "code",
   "execution_count": 1,
   "metadata": {},
   "outputs": [],
   "source": [
    "import requests\n",
    "from bs4 import BeautifulSoup\n",
    "import time"
   ]
  },
  {
   "cell_type": "code",
   "execution_count": 2,
   "metadata": {},
   "outputs": [
    {
     "name": "stdout",
     "output_type": "stream",
     "text": [
      "<Response [200]>\n"
     ]
    }
   ],
   "source": [
    "url = 'https://www.imdb.com/title/tt0071853/'\n",
    "r = requests.get(url)\n",
    "print(r)"
   ]
  },
  {
   "cell_type": "code",
   "execution_count": 3,
   "metadata": {},
   "outputs": [],
   "source": [
    "r_unparsed = r.text"
   ]
  },
  {
   "cell_type": "code",
   "execution_count": 4,
   "metadata": {},
   "outputs": [
    {
     "name": "stdout",
     "output_type": "stream",
     "text": [
      "0.15085935592651367\n"
     ]
    }
   ],
   "source": [
    "start = time.time()\n",
    "b = BeautifulSoup(r_unparsed, 'lxml')\n",
    "end = time.time()\n",
    "print(end - start)"
   ]
  },
  {
   "cell_type": "code",
   "execution_count": 5,
   "metadata": {},
   "outputs": [
    {
     "name": "stdout",
     "output_type": "stream",
     "text": [
      "0.23208260536193848\n"
     ]
    }
   ],
   "source": [
    "start = time.time()\n",
    "b = BeautifulSoup(r_unparsed, 'html.parser')\n",
    "end = time.time()\n",
    "print(end - start)"
   ]
  },
  {
   "cell_type": "code",
   "execution_count": 6,
   "metadata": {},
   "outputs": [
    {
     "data": {
      "text/plain": [
       "bs4.BeautifulSoup"
      ]
     },
     "execution_count": 6,
     "metadata": {},
     "output_type": "execute_result"
    }
   ],
   "source": [
    "type(b)"
   ]
  },
  {
   "cell_type": "code",
   "execution_count": 8,
   "metadata": {},
   "outputs": [
    {
     "name": "stdout",
     "output_type": "stream",
     "text": [
      "Monty Python and the Holy Grail (1975) - IMDb\n"
     ]
    }
   ],
   "source": [
    "print(b.title.text)"
   ]
  },
  {
   "cell_type": "code",
   "execution_count": 9,
   "metadata": {},
   "outputs": [
    {
     "name": "stdout",
     "output_type": "stream",
     "text": [
      "Monty Python and the Holy Grail (1975) \n"
     ]
    }
   ],
   "source": [
    "print(b.find('h1').text)"
   ]
  },
  {
   "cell_type": "code",
   "execution_count": 10,
   "metadata": {},
   "outputs": [
    {
     "name": "stdout",
     "output_type": "stream",
     "text": [
      "[<h1 class=\"\">Monty Python and the Holy Grail <span id=\"titleYear\">(<a href=\"/year/1975/\">1975</a>)</span> </h1>]\n"
     ]
    }
   ],
   "source": [
    "print(b.find_all('h1'))"
   ]
  },
  {
   "cell_type": "code",
   "execution_count": 11,
   "metadata": {},
   "outputs": [
    {
     "name": "stdout",
     "output_type": "stream",
     "text": [
      "[<h2><div class=\"checkin-error\">Error</div></h2>, <h2><div class=\"checkin-success\">Added to Your Check-Ins.</div></h2>, <h2>\n",
      "<a class=\"segment-link\" href=\"/offsite/?page-action=watch-amazon&amp;token=BCYoeHwkjV7mh_3Z5J1tU2i9701Uft-al1iPBDHpkG4UOtn3J9TFba54szINHyWj6i6UNswITxAO%0D%0A29aXsaq-71crHbYGwdJQdeBq38MN1M2pO5oWdZwEcTznczqUXRswRI9-BrPYG5QJEl6VWjm0vvUe%0D%0ANb5HUAw2KJOk-AVJQ2hMVyUhtbMV_PzvsnEmDDDrEPgSu81YFUXBySKNU7pgRMBrlcu4Ns69HShF%0D%0AVKbYgftMYDkLO633PXTBB0XU6dgg_LVY%0D%0A\" target=\"_blank\"> On Disc\n",
      "</a> </h2>, <h2>Videos</h2>, <h2>Photos</h2>, <h2 class=\"rec_heading_wrapper\">\n",
      "<span class=\"rec_heading\" data-spec=\"p13nsims:tt0071853\">More Like This </span>\n",
      "</h2>, <h2>Cast</h2>, <h2>Storyline</h2>, <h2>Details</h2>, <h2>Did You Know?</h2>, <h2>Frequently Asked Questions</h2>, <h2>User Reviews</h2>, <h2>Contribute to This Page</h2>]\n"
     ]
    }
   ],
   "source": [
    "print(b.find_all('h2'))"
   ]
  },
  {
   "cell_type": "code",
   "execution_count": 13,
   "metadata": {},
   "outputs": [
    {
     "name": "stdout",
     "output_type": "stream",
     "text": [
      "King Arthur and his Knights of the Round Table embark on a surreal, low-budget search for the Holy Grail, encountering many, very silly obstacles.\n"
     ]
    }
   ],
   "source": [
    "print(b.find('div','summary_text').text.strip())"
   ]
  },
  {
   "cell_type": "code",
   "execution_count": 14,
   "metadata": {},
   "outputs": [
    {
     "name": "stdout",
     "output_type": "stream",
     "text": [
      "PG\n",
      "    | \n",
      "                        1h 31min\n",
      "                    \n",
      "|\n",
      "Adventure, \n",
      "Comedy, \n",
      "Fantasy\n",
      "|\n",
      "25 May 1975 (UK)\n"
     ]
    }
   ],
   "source": [
    "print(b.find('div','subtext').text.strip())"
   ]
  },
  {
   "cell_type": "code",
   "execution_count": 15,
   "metadata": {},
   "outputs": [],
   "source": [
    "import json"
   ]
  },
  {
   "cell_type": "code",
   "execution_count": 16,
   "metadata": {},
   "outputs": [
    {
     "name": "stdout",
     "output_type": "stream",
     "text": [
      "<script type=\"text/javascript\">var IMDbTimer={starttime: new Date().getTime(),pt:'java'};</script>\n"
     ]
    }
   ],
   "source": [
    "print(b.find('script'))"
   ]
  },
  {
   "cell_type": "code",
   "execution_count": 21,
   "metadata": {},
   "outputs": [
    {
     "name": "stdout",
     "output_type": "stream",
     "text": [
      "{'@context': 'http://schema.org', '@type': 'Movie', 'url': '/title/tt0071853/', 'name': 'Monty Python and the Holy Grail', 'image': 'https://m.media-amazon.com/images/M/MV5BN2IyNTE4YzUtZWU0Mi00MGIwLTgyMmQtMzQ4YzQxYWNlYWE2XkEyXkFqcGdeQXVyNjU0OTQ0OTY@._V1_.jpg', 'genre': ['Adventure', 'Comedy', 'Fantasy'], 'contentRating': 'PG', 'actor': [{'@type': 'Person', 'url': '/name/nm0001037/', 'name': 'Graham Chapman'}, {'@type': 'Person', 'url': '/name/nm0000092/', 'name': 'John Cleese'}, {'@type': 'Person', 'url': '/name/nm0001385/', 'name': 'Eric Idle'}, {'@type': 'Person', 'url': '/name/nm0000416/', 'name': 'Terry Gilliam'}], 'director': [{'@type': 'Person', 'url': '/name/nm0000416/', 'name': 'Terry Gilliam'}, {'@type': 'Person', 'url': '/name/nm0001402/', 'name': 'Terry Jones'}], 'creator': [{'@type': 'Person', 'url': '/name/nm0001037/', 'name': 'Graham Chapman'}, {'@type': 'Person', 'url': '/name/nm0000092/', 'name': 'John Cleese'}, {'@type': 'Person', 'url': '/name/nm0001385/', 'name': 'Eric Idle'}, {'@type': 'Person', 'url': '/name/nm0000416/', 'name': 'Terry Gilliam'}, {'@type': 'Person', 'url': '/name/nm0001402/', 'name': 'Terry Jones'}, {'@type': 'Person', 'url': '/name/nm0001589/', 'name': 'Michael Palin'}, {'@type': 'Organization', 'url': '/company/co0103461/'}, {'@type': 'Organization', 'url': '/company/co0061741/'}, {'@type': 'Organization', 'url': '/company/co0103397/'}], 'description': 'Monty Python and the Holy Grail is a movie starring Graham Chapman, John Cleese, and Eric Idle. King Arthur and his Knights of the Round Table embark on a surreal, low-budget search for the Holy Grail, encountering many, very silly...', 'datePublished': '1975-05-25', 'keywords': 'knight,camelot,king arthur,holy grail,arthurian legend', 'aggregateRating': {'@type': 'AggregateRating', 'ratingCount': 459017, 'bestRating': '10.0', 'worstRating': '1.0', 'ratingValue': '8.3'}, 'review': {'@type': 'Review', 'itemReviewed': {'@type': 'CreativeWork', 'url': '/title/tt0071853/'}, 'author': {'@type': 'Person', 'name': 'mjw2305'}, 'dateCreated': '2005-01-22', 'inLanguage': 'English', 'name': 'Monty Python at their best', 'reviewBody': \"In the Realm of King Arthur, the Monty Python team set out on a quest to recruit the best Knights in the kingdom and find the Holy Grail.\\n\\nThis is Classic Python Mayhem, where we encounter Killer rabbits, Knights who go Nee! and Horny Nuns who lure the unsuspecting in with there Grail Shaped Beacon.\\n\\nThe Cast all give Typically Hilarious Performances, bringing another must see to the Python Loving Audience.\\n\\nIf You Like Monty Python, you'll love it, if you don't then stay away.\\n\\nIf you've never seen Monty Python before then give it a try, yes it's dated but its still great fun.\\n\\n9/10\\n\\nAlso see, The Life Of Brian and The Meaning of Life\", 'reviewRating': {'@type': 'Rating', 'worstRating': '1', 'bestRating': '10', 'ratingValue': '9'}}, 'duration': 'PT1H31M', 'trailer': {'@type': 'VideoObject', 'name': 'Monty Python and the Holy Grail: 40th Anniversary', 'embedUrl': '/video/imdb/vi2300228377', 'thumbnail': {'@type': 'ImageObject', 'contentUrl': 'https://m.media-amazon.com/images/M/MV5BMDkxZGZmMWMtMjRkNy00ZmNkLWFjZDEtMWQzMTY5MmFmMjZjXkEyXkFqcGdeQXVyNzU1NzE3NTg@._V1_.jpg'}, 'thumbnailUrl': 'https://m.media-amazon.com/images/M/MV5BMDkxZGZmMWMtMjRkNy00ZmNkLWFjZDEtMWQzMTY5MmFmMjZjXkEyXkFqcGdeQXVyNzU1NzE3NTg@._V1_.jpg', 'description': 'Trailer for Monty Python and the Holy Grail: 40th Anniversary', 'uploadDate': '2015-09-17T04:40:07Z'}}\n"
     ]
    }
   ],
   "source": [
    "rating = json.loads(\n",
    "    b.find('script', type='application/ld+json').text.strip())\n",
    "print(rating)"
   ]
  },
  {
   "cell_type": "code",
   "execution_count": 22,
   "metadata": {},
   "outputs": [
    {
     "data": {
      "text/plain": [
       "dict"
      ]
     },
     "execution_count": 22,
     "metadata": {},
     "output_type": "execute_result"
    }
   ],
   "source": [
    "type(rating)"
   ]
  },
  {
   "cell_type": "code",
   "execution_count": 23,
   "metadata": {},
   "outputs": [
    {
     "name": "stdout",
     "output_type": "stream",
     "text": [
      "PG\n"
     ]
    }
   ],
   "source": [
    "print(rating['contentRating'])"
   ]
  },
  {
   "cell_type": "code",
   "execution_count": 24,
   "metadata": {},
   "outputs": [
    {
     "name": "stdout",
     "output_type": "stream",
     "text": [
      "[{'@type': 'Person', 'url': '/name/nm0001037/', 'name': 'Graham Chapman'}, {'@type': 'Person', 'url': '/name/nm0000092/', 'name': 'John Cleese'}, {'@type': 'Person', 'url': '/name/nm0001385/', 'name': 'Eric Idle'}, {'@type': 'Person', 'url': '/name/nm0000416/', 'name': 'Terry Gilliam'}]\n"
     ]
    }
   ],
   "source": [
    "print(rating['actor'])"
   ]
  },
  {
   "cell_type": "code",
   "execution_count": 26,
   "metadata": {},
   "outputs": [
    {
     "name": "stdout",
     "output_type": "stream",
     "text": [
      "Graham Chapman\n",
      "John Cleese\n",
      "Eric Idle\n",
      "Terry Gilliam\n"
     ]
    }
   ],
   "source": [
    "for item in rating['actor']:\n",
    "    print(item['name'])"
   ]
  },
  {
   "cell_type": "code",
   "execution_count": 28,
   "metadata": {},
   "outputs": [
    {
     "name": "stdout",
     "output_type": "stream",
     "text": [
      "[{'@type': 'Person', 'url': '/name/nm0000416/', 'name': 'Terry Gilliam'}, {'@type': 'Person', 'url': '/name/nm0001402/', 'name': 'Terry Jones'}]\n"
     ]
    }
   ],
   "source": [
    "print(rating['director'])"
   ]
  },
  {
   "cell_type": "code",
   "execution_count": 29,
   "metadata": {},
   "outputs": [
    {
     "name": "stdout",
     "output_type": "stream",
     "text": [
      "Terry Gilliam\n",
      "Terry Jones\n"
     ]
    }
   ],
   "source": [
    "for item in rating['director']:\n",
    "    print(item['name'])"
   ]
  },
  {
   "cell_type": "code",
   "execution_count": 30,
   "metadata": {},
   "outputs": [
    {
     "name": "stdout",
     "output_type": "stream",
     "text": [
      "dict_keys(['@context', '@type', 'url', 'name', 'image', 'genre', 'contentRating', 'actor', 'director', 'creator', 'description', 'datePublished', 'keywords', 'aggregateRating', 'review', 'duration', 'trailer'])\n"
     ]
    }
   ],
   "source": [
    "print(rating.keys())"
   ]
  },
  {
   "cell_type": "code",
   "execution_count": 40,
   "metadata": {},
   "outputs": [],
   "source": [
    "def actors(x):\n",
    "    actors_list = []\n",
    "    actors = json.loads(\n",
    "        x.find('script', type='application/ld+json').\n",
    "        text)['actor']\n",
    "    for actor in actors:\n",
    "        actors_list.append(str(actor['name']))\n",
    "    return actors_list"
   ]
  },
  {
   "cell_type": "code",
   "execution_count": 41,
   "metadata": {},
   "outputs": [],
   "source": [
    "def directors(x):\n",
    "    directors_list = []\n",
    "    directors = json.loads(\n",
    "    x.find('script', type='application/ld+json').text)['director']\n",
    "    for director in directors:\n",
    "        directors.append(str(director['name']))\n",
    "    return directors_list"
   ]
  },
  {
   "cell_type": "code",
   "execution_count": 46,
   "metadata": {},
   "outputs": [],
   "source": [
    "def movie_info(id):\n",
    "    url = f\"https://www.imdb.com/title/{id}/\"\n",
    "    r = requests.get(url)\n",
    "    b = BeautifulSoup(r.text, 'lxml')\n",
    "    movie_dict = {}\n",
    "    movie_dict[id] = {}\n",
    "    movie_dict[id]['title'] = b.title.text\n",
    "    movie_dict[id]['desc'] = b.find('div', 'summary_text').text.strip()\n",
    "    temp = b.find('script', type='application/ld+json').text\n",
    "    movie_dict[id]['rating'] = json.loads(temp)['contentRating']\n",
    "    movie_dict[id]['actors'] = actors(b)\n",
    "    # movie_dict[id]['directors'] = directors(b)\n",
    "    return movie_dict"
   ]
  },
  {
   "cell_type": "code",
   "execution_count": 47,
   "metadata": {},
   "outputs": [
    {
     "name": "stdout",
     "output_type": "stream",
     "text": [
      "{'tt6306064': {'title': 'Adrift (2018) - IMDb', 'desc': \"A true story of survival, as a young couple's chance encounter leads them first to love, and then on the adventure of a lifetime as they face one of the most catastrophic hurricanes in recorded history.\", 'rating': 'PG-13', 'actors': ['Shailene Woodley', 'Sam Claflin', 'Jeffrey Thomas', 'Elizabeth Hawthorne']}}\n"
     ]
    }
   ],
   "source": [
    "Adrift = movie_info('tt6306064')\n",
    "print(Adrift)"
   ]
  },
  {
   "cell_type": "code",
   "execution_count": 48,
   "metadata": {},
   "outputs": [
    {
     "data": {
      "text/plain": [
       "dict_keys(['tt6306064'])"
      ]
     },
     "execution_count": 48,
     "metadata": {},
     "output_type": "execute_result"
    }
   ],
   "source": [
    "Adrift.keys()"
   ]
  },
  {
   "cell_type": "code",
   "execution_count": 49,
   "metadata": {},
   "outputs": [
    {
     "data": {
      "text/plain": [
       "'Adrift (2018) - IMDb'"
      ]
     },
     "execution_count": 49,
     "metadata": {},
     "output_type": "execute_result"
    }
   ],
   "source": [
    "Adrift['tt6306064']['title']"
   ]
  },
  {
   "cell_type": "code",
   "execution_count": 50,
   "metadata": {},
   "outputs": [
    {
     "data": {
      "text/plain": [
       "\"A true story of survival, as a young couple's chance encounter leads them first to love, and then on the adventure of a lifetime as they face one of the most catastrophic hurricanes in recorded history.\""
      ]
     },
     "execution_count": 50,
     "metadata": {},
     "output_type": "execute_result"
    }
   ],
   "source": [
    "Adrift['tt6306064']['desc']"
   ]
  },
  {
   "cell_type": "code",
   "execution_count": 51,
   "metadata": {},
   "outputs": [
    {
     "data": {
      "text/plain": [
       "'PG-13'"
      ]
     },
     "execution_count": 51,
     "metadata": {},
     "output_type": "execute_result"
    }
   ],
   "source": [
    "Adrift['tt6306064']['rating']"
   ]
  },
  {
   "cell_type": "code",
   "execution_count": 52,
   "metadata": {},
   "outputs": [
    {
     "data": {
      "text/plain": [
       "['Shailene Woodley', 'Sam Claflin', 'Jeffrey Thomas', 'Elizabeth Hawthorne']"
      ]
     },
     "execution_count": 52,
     "metadata": {},
     "output_type": "execute_result"
    }
   ],
   "source": [
    "Adrift['tt6306064']['actors']"
   ]
  },
  {
   "cell_type": "code",
   "execution_count": null,
   "metadata": {},
   "outputs": [],
   "source": []
  },
  {
   "cell_type": "code",
   "execution_count": null,
   "metadata": {},
   "outputs": [],
   "source": []
  },
  {
   "cell_type": "code",
   "execution_count": null,
   "metadata": {},
   "outputs": [],
   "source": []
  },
  {
   "cell_type": "code",
   "execution_count": null,
   "metadata": {},
   "outputs": [],
   "source": []
  },
  {
   "cell_type": "code",
   "execution_count": null,
   "metadata": {},
   "outputs": [],
   "source": []
  }
 ],
 "metadata": {
  "kernelspec": {
   "display_name": "Python 3",
   "language": "python",
   "name": "python3"
  },
  "language_info": {
   "codemirror_mode": {
    "name": "ipython",
    "version": 3
   },
   "file_extension": ".py",
   "mimetype": "text/x-python",
   "name": "python",
   "nbconvert_exporter": "python",
   "pygments_lexer": "ipython3",
   "version": "3.7.3"
  }
 },
 "nbformat": 4,
 "nbformat_minor": 2
}

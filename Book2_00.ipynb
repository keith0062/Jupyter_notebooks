{
  "nbformat": 4,
  "nbformat_minor": 0,
  "metadata": {
    "colab": {
      "provenance": [],
      "authorship_tag": "ABX9TyMNFQkaCj198j6q/Xp0psG6",
      "include_colab_link": true
    },
    "kernelspec": {
      "name": "python3",
      "display_name": "Python 3"
    },
    "language_info": {
      "name": "python"
    }
  },
  "cells": [
    {
      "cell_type": "markdown",
      "metadata": {
        "id": "view-in-github",
        "colab_type": "text"
      },
      "source": [
        "<a href=\"https://colab.research.google.com/github/keith0062/Jupyter_notebooks/blob/master/Book2_00.ipynb\" target=\"_parent\"><img src=\"https://colab.research.google.com/assets/colab-badge.svg\" alt=\"Open In Colab\"/></a>"
      ]
    },
    {
      "cell_type": "markdown",
      "source": [
        "## Algebra using Python"
      ],
      "metadata": {
        "id": "1n0VoNoZ-P3j"
      }
    },
    {
      "cell_type": "code",
      "execution_count": null,
      "metadata": {
        "id": "sMG0trgr9-qW"
      },
      "outputs": [],
      "source": []
    },
    {
      "cell_type": "markdown",
      "source": [],
      "metadata": {
        "id": "hXrqXrVxRvCn"
      }
    },
    {
      "cell_type": "code",
      "source": [],
      "metadata": {
        "id": "IuBwhEzmRvyq"
      },
      "execution_count": null,
      "outputs": []
    },
    {
      "cell_type": "markdown",
      "source": [
        "# New Section"
      ],
      "metadata": {
        "id": "sawfLY8z-09e"
      }
    },
    {
      "cell_type": "markdown",
      "source": [
        "# New Section"
      ],
      "metadata": {
        "id": "BSJVMc1a-1sS"
      }
    },
    {
      "cell_type": "markdown",
      "source": [
        "Test colab notebook"
      ],
      "metadata": {
        "id": "mYsSv0I9-AP8"
      }
    }
  ]
}
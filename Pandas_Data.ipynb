{
 "cells": [
  {
   "cell_type": "code",
   "execution_count": 1,
   "metadata": {},
   "outputs": [],
   "source": [
    "import pandas as pd\n",
    "url = 'https://raw.githubusercontent.com/chrisalbon/simulated_datasets/master/data.json'\n",
    "json = pd.read_json(url)"
   ]
  },
  {
   "cell_type": "code",
   "execution_count": 2,
   "metadata": {},
   "outputs": [
    {
     "data": {
      "text/html": [
       "<div>\n",
       "<style scoped>\n",
       "    .dataframe tbody tr th:only-of-type {\n",
       "        vertical-align: middle;\n",
       "    }\n",
       "\n",
       "    .dataframe tbody tr th {\n",
       "        vertical-align: top;\n",
       "    }\n",
       "\n",
       "    .dataframe thead th {\n",
       "        text-align: right;\n",
       "    }\n",
       "</style>\n",
       "<table border=\"1\" class=\"dataframe\">\n",
       "  <thead>\n",
       "    <tr style=\"text-align: right;\">\n",
       "      <th></th>\n",
       "      <th>integer</th>\n",
       "      <th>datetime</th>\n",
       "      <th>category</th>\n",
       "    </tr>\n",
       "  </thead>\n",
       "  <tbody>\n",
       "    <tr>\n",
       "      <th>94</th>\n",
       "      <td>5</td>\n",
       "      <td>2015-01-01 00:01:34</td>\n",
       "      <td>0</td>\n",
       "    </tr>\n",
       "    <tr>\n",
       "      <th>95</th>\n",
       "      <td>9</td>\n",
       "      <td>2015-01-01 00:01:35</td>\n",
       "      <td>0</td>\n",
       "    </tr>\n",
       "    <tr>\n",
       "      <th>96</th>\n",
       "      <td>8</td>\n",
       "      <td>2015-01-01 00:01:36</td>\n",
       "      <td>0</td>\n",
       "    </tr>\n",
       "    <tr>\n",
       "      <th>97</th>\n",
       "      <td>6</td>\n",
       "      <td>2015-01-01 00:01:37</td>\n",
       "      <td>0</td>\n",
       "    </tr>\n",
       "    <tr>\n",
       "      <th>98</th>\n",
       "      <td>8</td>\n",
       "      <td>2015-01-01 00:01:38</td>\n",
       "      <td>0</td>\n",
       "    </tr>\n",
       "    <tr>\n",
       "      <th>99</th>\n",
       "      <td>1</td>\n",
       "      <td>2015-01-01 00:01:39</td>\n",
       "      <td>0</td>\n",
       "    </tr>\n",
       "  </tbody>\n",
       "</table>\n",
       "</div>"
      ],
      "text/plain": [
       "    integer            datetime  category\n",
       "94        5 2015-01-01 00:01:34         0\n",
       "95        9 2015-01-01 00:01:35         0\n",
       "96        8 2015-01-01 00:01:36         0\n",
       "97        6 2015-01-01 00:01:37         0\n",
       "98        8 2015-01-01 00:01:38         0\n",
       "99        1 2015-01-01 00:01:39         0"
      ]
     },
     "execution_count": 2,
     "metadata": {},
     "output_type": "execute_result"
    }
   ],
   "source": [
    "json.tail(6)"
   ]
  },
  {
   "cell_type": "code",
   "execution_count": 3,
   "metadata": {},
   "outputs": [
    {
     "data": {
      "text/plain": [
       "(100, 3)"
      ]
     },
     "execution_count": 3,
     "metadata": {},
     "output_type": "execute_result"
    }
   ],
   "source": [
    "json.shape"
   ]
  },
  {
   "cell_type": "code",
   "execution_count": 4,
   "metadata": {},
   "outputs": [],
   "source": [
    "json.to_json('dataframe.json')"
   ]
  },
  {
   "cell_type": "code",
   "execution_count": 9,
   "metadata": {},
   "outputs": [],
   "source": [
    "nested_json = \"\"\"{\n",
    "    \"article\": [\n",
    "        {\n",
    "            \"id\": \"01\",\n",
    "            \"language\": \"JSON\",\n",
    "            \"edition\": \"first\",\n",
    "            \"author\": \"Allen\"\n",
    "        },\n",
    "        {\n",
    "            \"id\": \"02\",\n",
    "            \"language\": \"Python\",\n",
    "            \"edition\": \"second\",\n",
    "            \"author\": \"Aditya Sharma\"\n",
    "        }\n",
    "    ],\n",
    "    \n",
    "    \"blog\": [\n",
    "        {\n",
    "            \"name\": \"Datacamp\",\n",
    "            \"URL\": \"datacamp.com\"\n",
    "        }\n",
    "    ]\n",
    "}\"\"\""
   ]
  },
  {
   "cell_type": "code",
   "execution_count": 10,
   "metadata": {},
   "outputs": [],
   "source": [
    "import json\n",
    "from pandas.io.json import json_normalize\n",
    "\n",
    "nested = json.loads(nested_json)"
   ]
  },
  {
   "cell_type": "code",
   "execution_count": 11,
   "metadata": {},
   "outputs": [
    {
     "data": {
      "text/plain": [
       "{'article': [{'id': '01',\n",
       "   'language': 'JSON',\n",
       "   'edition': 'first',\n",
       "   'author': 'Allen'},\n",
       "  {'id': '02',\n",
       "   'language': 'Python',\n",
       "   'edition': 'second',\n",
       "   'author': 'Aditya Sharma'}],\n",
       " 'blog': [{'name': 'Datacamp', 'URL': 'datacamp.com'}]}"
      ]
     },
     "execution_count": 11,
     "metadata": {},
     "output_type": "execute_result"
    }
   ],
   "source": [
    "nested"
   ]
  },
  {
   "cell_type": "code",
   "execution_count": 12,
   "metadata": {},
   "outputs": [
    {
     "data": {
      "text/html": [
       "<div>\n",
       "<style scoped>\n",
       "    .dataframe tbody tr th:only-of-type {\n",
       "        vertical-align: middle;\n",
       "    }\n",
       "\n",
       "    .dataframe tbody tr th {\n",
       "        vertical-align: top;\n",
       "    }\n",
       "\n",
       "    .dataframe thead th {\n",
       "        text-align: right;\n",
       "    }\n",
       "</style>\n",
       "<table border=\"1\" class=\"dataframe\">\n",
       "  <thead>\n",
       "    <tr style=\"text-align: right;\">\n",
       "      <th></th>\n",
       "      <th>article</th>\n",
       "      <th>blog</th>\n",
       "    </tr>\n",
       "  </thead>\n",
       "  <tbody>\n",
       "    <tr>\n",
       "      <th>0</th>\n",
       "      <td>[{'id': '01', 'language': 'JSON', 'edition': '...</td>\n",
       "      <td>[{'name': 'Datacamp', 'URL': 'datacamp.com'}]</td>\n",
       "    </tr>\n",
       "  </tbody>\n",
       "</table>\n",
       "</div>"
      ],
      "text/plain": [
       "                                             article  \\\n",
       "0  [{'id': '01', 'language': 'JSON', 'edition': '...   \n",
       "\n",
       "                                            blog  \n",
       "0  [{'name': 'Datacamp', 'URL': 'datacamp.com'}]  "
      ]
     },
     "execution_count": 12,
     "metadata": {},
     "output_type": "execute_result"
    }
   ],
   "source": [
    "nested_full = json_normalize(nested)\n",
    "nested_full"
   ]
  },
  {
   "cell_type": "code",
   "execution_count": 13,
   "metadata": {},
   "outputs": [
    {
     "data": {
      "text/html": [
       "<div>\n",
       "<style scoped>\n",
       "    .dataframe tbody tr th:only-of-type {\n",
       "        vertical-align: middle;\n",
       "    }\n",
       "\n",
       "    .dataframe tbody tr th {\n",
       "        vertical-align: top;\n",
       "    }\n",
       "\n",
       "    .dataframe thead th {\n",
       "        text-align: right;\n",
       "    }\n",
       "</style>\n",
       "<table border=\"1\" class=\"dataframe\">\n",
       "  <thead>\n",
       "    <tr style=\"text-align: right;\">\n",
       "      <th></th>\n",
       "      <th>URL</th>\n",
       "      <th>name</th>\n",
       "    </tr>\n",
       "  </thead>\n",
       "  <tbody>\n",
       "    <tr>\n",
       "      <th>0</th>\n",
       "      <td>datacamp.com</td>\n",
       "      <td>Datacamp</td>\n",
       "    </tr>\n",
       "  </tbody>\n",
       "</table>\n",
       "</div>"
      ],
      "text/plain": [
       "            URL      name\n",
       "0  datacamp.com  Datacamp"
      ]
     },
     "execution_count": 13,
     "metadata": {},
     "output_type": "execute_result"
    }
   ],
   "source": [
    "blog = json_normalize(nested, record_path='blog')\n",
    "blog"
   ]
  },
  {
   "cell_type": "code",
   "execution_count": 14,
   "metadata": {},
   "outputs": [
    {
     "data": {
      "text/html": [
       "<div>\n",
       "<style scoped>\n",
       "    .dataframe tbody tr th:only-of-type {\n",
       "        vertical-align: middle;\n",
       "    }\n",
       "\n",
       "    .dataframe tbody tr th {\n",
       "        vertical-align: top;\n",
       "    }\n",
       "\n",
       "    .dataframe thead th {\n",
       "        text-align: right;\n",
       "    }\n",
       "</style>\n",
       "<table border=\"1\" class=\"dataframe\">\n",
       "  <thead>\n",
       "    <tr style=\"text-align: right;\">\n",
       "      <th></th>\n",
       "      <th>author</th>\n",
       "      <th>edition</th>\n",
       "      <th>id</th>\n",
       "      <th>language</th>\n",
       "    </tr>\n",
       "  </thead>\n",
       "  <tbody>\n",
       "    <tr>\n",
       "      <th>0</th>\n",
       "      <td>Allen</td>\n",
       "      <td>first</td>\n",
       "      <td>01</td>\n",
       "      <td>JSON</td>\n",
       "    </tr>\n",
       "    <tr>\n",
       "      <th>1</th>\n",
       "      <td>Aditya Sharma</td>\n",
       "      <td>second</td>\n",
       "      <td>02</td>\n",
       "      <td>Python</td>\n",
       "    </tr>\n",
       "  </tbody>\n",
       "</table>\n",
       "</div>"
      ],
      "text/plain": [
       "          author edition  id language\n",
       "0          Allen   first  01     JSON\n",
       "1  Aditya Sharma  second  02   Python"
      ]
     },
     "execution_count": 14,
     "metadata": {},
     "output_type": "execute_result"
    }
   ],
   "source": [
    "article = json_normalize(nested, record_path='article')\n",
    "article"
   ]
  },
  {
   "cell_type": "code",
   "execution_count": 15,
   "metadata": {},
   "outputs": [],
   "source": [
    "nested_json = {\n",
    "    \"article\": [\n",
    "        {\n",
    "            \"id\": \"01\",\n",
    "            \"language\": \"JSON\",\n",
    "            \"edition\": \"first\",\n",
    "            \"author\": \"Allen\"\n",
    "        },\n",
    "        {\n",
    "            \"id\": \"02\",\n",
    "            \"language\": \"Python\",\n",
    "            \"edition\": \"second\",\n",
    "            \"author\": \"Aditya Sharma\"\n",
    "        }\n",
    "    ],\n",
    "    \n",
    "    \"blog\": [\n",
    "        {\n",
    "            \"name\": \"Datacamp\",\n",
    "            \"URL\": \"datacamp.com\"\n",
    "        }\n",
    "    ]\n",
    "}"
   ]
  },
  {
   "cell_type": "code",
   "execution_count": 16,
   "metadata": {},
   "outputs": [
    {
     "data": {
      "text/html": [
       "<div>\n",
       "<style scoped>\n",
       "    .dataframe tbody tr th:only-of-type {\n",
       "        vertical-align: middle;\n",
       "    }\n",
       "\n",
       "    .dataframe tbody tr th {\n",
       "        vertical-align: top;\n",
       "    }\n",
       "\n",
       "    .dataframe thead th {\n",
       "        text-align: right;\n",
       "    }\n",
       "</style>\n",
       "<table border=\"1\" class=\"dataframe\">\n",
       "  <thead>\n",
       "    <tr style=\"text-align: right;\">\n",
       "      <th></th>\n",
       "      <th>article</th>\n",
       "      <th>blog</th>\n",
       "    </tr>\n",
       "  </thead>\n",
       "  <tbody>\n",
       "    <tr>\n",
       "      <th>0</th>\n",
       "      <td>[{'id': '01', 'language': 'JSON', 'edition': '...</td>\n",
       "      <td>[{'name': 'Datacamp', 'URL': 'datacamp.com'}]</td>\n",
       "    </tr>\n",
       "  </tbody>\n",
       "</table>\n",
       "</div>"
      ],
      "text/plain": [
       "                                             article  \\\n",
       "0  [{'id': '01', 'language': 'JSON', 'edition': '...   \n",
       "\n",
       "                                            blog  \n",
       "0  [{'name': 'Datacamp', 'URL': 'datacamp.com'}]  "
      ]
     },
     "execution_count": 16,
     "metadata": {},
     "output_type": "execute_result"
    }
   ],
   "source": [
    "json_file = pd.DataFrame.from_dict(json_normalize(nested_json))\n",
    "json_file"
   ]
  },
  {
   "cell_type": "code",
   "execution_count": null,
   "metadata": {},
   "outputs": [],
   "source": []
  },
  {
   "cell_type": "code",
   "execution_count": 17,
   "metadata": {},
   "outputs": [
    {
     "data": {
      "text/plain": [
       "<Response [200]>"
      ]
     },
     "execution_count": 17,
     "metadata": {},
     "output_type": "execute_result"
    }
   ],
   "source": [
    "import requests\n",
    "url = 'https://www.worldcoinindex.com/'\n",
    "crypto_url = requests.get(url)\n",
    "crypto_url"
   ]
  },
  {
   "cell_type": "code",
   "execution_count": 18,
   "metadata": {},
   "outputs": [
    {
     "name": "stdout",
     "output_type": "stream",
     "text": [
      "1\n",
      "<class 'list'>\n"
     ]
    }
   ],
   "source": [
    "crypto_data = pd.read_html(crypto_url.text)\n",
    "print(len(crypto_data))\n",
    "print(type(crypto_data))"
   ]
  },
  {
   "cell_type": "code",
   "execution_count": 19,
   "metadata": {},
   "outputs": [],
   "source": [
    "crypto_data = crypto_data[0]"
   ]
  },
  {
   "cell_type": "code",
   "execution_count": 20,
   "metadata": {},
   "outputs": [
    {
     "data": {
      "text/html": [
       "<div>\n",
       "<style scoped>\n",
       "    .dataframe tbody tr th:only-of-type {\n",
       "        vertical-align: middle;\n",
       "    }\n",
       "\n",
       "    .dataframe tbody tr th {\n",
       "        vertical-align: top;\n",
       "    }\n",
       "\n",
       "    .dataframe thead th {\n",
       "        text-align: right;\n",
       "    }\n",
       "</style>\n",
       "<table border=\"1\" class=\"dataframe\">\n",
       "  <thead>\n",
       "    <tr style=\"text-align: right;\">\n",
       "      <th></th>\n",
       "      <th>Name</th>\n",
       "      <th>Ticker</th>\n",
       "      <th>Last price</th>\n",
       "      <th>%</th>\n",
       "      <th>24 high</th>\n",
       "      <th>24 low</th>\n",
       "      <th>Price Charts 7d</th>\n",
       "      <th>24 volume</th>\n",
       "      <th># Coins</th>\n",
       "      <th>Market cap</th>\n",
       "    </tr>\n",
       "  </thead>\n",
       "  <tbody>\n",
       "    <tr>\n",
       "      <th>0</th>\n",
       "      <td>bitcoin</td>\n",
       "      <td>BTC</td>\n",
       "      <td>$ 7,669.233</td>\n",
       "      <td>-5.72%</td>\n",
       "      <td>$ 8,134.500</td>\n",
       "      <td>$ 7,610.561</td>\n",
       "      <td>NaN</td>\n",
       "      <td>$ 11.93B</td>\n",
       "      <td>17.74M</td>\n",
       "      <td>$ 136.05B</td>\n",
       "    </tr>\n",
       "    <tr>\n",
       "      <th>1</th>\n",
       "      <td>ethereum</td>\n",
       "      <td>ETH</td>\n",
       "      <td>$ 241.53963</td>\n",
       "      <td>-3.71%</td>\n",
       "      <td>$ 250.85644</td>\n",
       "      <td>$ 238.82313</td>\n",
       "      <td>NaN</td>\n",
       "      <td>$ 6.37B</td>\n",
       "      <td>106.35M</td>\n",
       "      <td>$ 25.68B</td>\n",
       "    </tr>\n",
       "    <tr>\n",
       "      <th>2</th>\n",
       "      <td>eos</td>\n",
       "      <td>EOS</td>\n",
       "      <td>$ 6.3749150</td>\n",
       "      <td>-5.15%</td>\n",
       "      <td>$ 6.8562049</td>\n",
       "      <td>$ 6.2783332</td>\n",
       "      <td>NaN</td>\n",
       "      <td>$ 3.45B</td>\n",
       "      <td>1.01B</td>\n",
       "      <td>$ 6.46B</td>\n",
       "    </tr>\n",
       "    <tr>\n",
       "      <th>3</th>\n",
       "      <td>litecoin</td>\n",
       "      <td>LTC</td>\n",
       "      <td>$ 102.05268</td>\n",
       "      <td>-4.15%</td>\n",
       "      <td>$ 106.46630</td>\n",
       "      <td>$ 100.93849</td>\n",
       "      <td>NaN</td>\n",
       "      <td>$ 3.22B</td>\n",
       "      <td>62.07M</td>\n",
       "      <td>$ 6.33B</td>\n",
       "    </tr>\n",
       "    <tr>\n",
       "      <th>4</th>\n",
       "      <td>ripple</td>\n",
       "      <td>XRP</td>\n",
       "      <td>$ 0.39611588</td>\n",
       "      <td>-5.50%</td>\n",
       "      <td>$ 0.41917076</td>\n",
       "      <td>$ 0.38970806</td>\n",
       "      <td>NaN</td>\n",
       "      <td>$ 2.15B</td>\n",
       "      <td>42.18B</td>\n",
       "      <td>$ 16.70B</td>\n",
       "    </tr>\n",
       "  </tbody>\n",
       "</table>\n",
       "</div>"
      ],
      "text/plain": [
       "       Name Ticker    Last price       %       24 high        24 low  \\\n",
       "0   bitcoin    BTC   $ 7,669.233  -5.72%   $ 8,134.500   $ 7,610.561   \n",
       "1  ethereum    ETH   $ 241.53963  -3.71%   $ 250.85644   $ 238.82313   \n",
       "2       eos    EOS   $ 6.3749150  -5.15%   $ 6.8562049   $ 6.2783332   \n",
       "3  litecoin    LTC   $ 102.05268  -4.15%   $ 106.46630   $ 100.93849   \n",
       "4    ripple    XRP  $ 0.39611588  -5.50%  $ 0.41917076  $ 0.38970806   \n",
       "\n",
       "   Price Charts 7d 24 volume  # Coins Market cap  \n",
       "0              NaN  $ 11.93B   17.74M  $ 136.05B  \n",
       "1              NaN   $ 6.37B  106.35M   $ 25.68B  \n",
       "2              NaN   $ 3.45B    1.01B    $ 6.46B  \n",
       "3              NaN   $ 3.22B   62.07M    $ 6.33B  \n",
       "4              NaN   $ 2.15B   42.18B   $ 16.70B  "
      ]
     },
     "execution_count": 20,
     "metadata": {},
     "output_type": "execute_result"
    }
   ],
   "source": [
    "crypto_final = crypto_data.iloc[:, 2:]\n",
    "crypto_final.head()"
   ]
  },
  {
   "cell_type": "code",
   "execution_count": 21,
   "metadata": {},
   "outputs": [
    {
     "data": {
      "text/html": [
       "<div>\n",
       "<style scoped>\n",
       "    .dataframe tbody tr th:only-of-type {\n",
       "        vertical-align: middle;\n",
       "    }\n",
       "\n",
       "    .dataframe tbody tr th {\n",
       "        vertical-align: top;\n",
       "    }\n",
       "\n",
       "    .dataframe thead th {\n",
       "        text-align: right;\n",
       "    }\n",
       "</style>\n",
       "<table border=\"1\" class=\"dataframe\">\n",
       "  <thead>\n",
       "    <tr style=\"text-align: right;\">\n",
       "      <th></th>\n",
       "      <th>Name</th>\n",
       "      <th>Ticker</th>\n",
       "      <th>Last price</th>\n",
       "      <th>%</th>\n",
       "      <th>24 high</th>\n",
       "      <th>24 low</th>\n",
       "      <th>24 volume</th>\n",
       "      <th># Coins</th>\n",
       "      <th>Market cap</th>\n",
       "    </tr>\n",
       "  </thead>\n",
       "  <tbody>\n",
       "    <tr>\n",
       "      <th>0</th>\n",
       "      <td>bitcoin</td>\n",
       "      <td>BTC</td>\n",
       "      <td>$ 7,669.233</td>\n",
       "      <td>-5.72%</td>\n",
       "      <td>$ 8,134.500</td>\n",
       "      <td>$ 7,610.561</td>\n",
       "      <td>$ 11.93B</td>\n",
       "      <td>17.74M</td>\n",
       "      <td>$ 136.05B</td>\n",
       "    </tr>\n",
       "    <tr>\n",
       "      <th>1</th>\n",
       "      <td>ethereum</td>\n",
       "      <td>ETH</td>\n",
       "      <td>$ 241.53963</td>\n",
       "      <td>-3.71%</td>\n",
       "      <td>$ 250.85644</td>\n",
       "      <td>$ 238.82313</td>\n",
       "      <td>$ 6.37B</td>\n",
       "      <td>106.35M</td>\n",
       "      <td>$ 25.68B</td>\n",
       "    </tr>\n",
       "    <tr>\n",
       "      <th>2</th>\n",
       "      <td>eos</td>\n",
       "      <td>EOS</td>\n",
       "      <td>$ 6.3749150</td>\n",
       "      <td>-5.15%</td>\n",
       "      <td>$ 6.8562049</td>\n",
       "      <td>$ 6.2783332</td>\n",
       "      <td>$ 3.45B</td>\n",
       "      <td>1.01B</td>\n",
       "      <td>$ 6.46B</td>\n",
       "    </tr>\n",
       "    <tr>\n",
       "      <th>3</th>\n",
       "      <td>litecoin</td>\n",
       "      <td>LTC</td>\n",
       "      <td>$ 102.05268</td>\n",
       "      <td>-4.15%</td>\n",
       "      <td>$ 106.46630</td>\n",
       "      <td>$ 100.93849</td>\n",
       "      <td>$ 3.22B</td>\n",
       "      <td>62.07M</td>\n",
       "      <td>$ 6.33B</td>\n",
       "    </tr>\n",
       "    <tr>\n",
       "      <th>4</th>\n",
       "      <td>ripple</td>\n",
       "      <td>XRP</td>\n",
       "      <td>$ 0.39611588</td>\n",
       "      <td>-5.50%</td>\n",
       "      <td>$ 0.41917076</td>\n",
       "      <td>$ 0.38970806</td>\n",
       "      <td>$ 2.15B</td>\n",
       "      <td>42.18B</td>\n",
       "      <td>$ 16.70B</td>\n",
       "    </tr>\n",
       "  </tbody>\n",
       "</table>\n",
       "</div>"
      ],
      "text/plain": [
       "       Name Ticker    Last price       %       24 high        24 low  \\\n",
       "0   bitcoin    BTC   $ 7,669.233  -5.72%   $ 8,134.500   $ 7,610.561   \n",
       "1  ethereum    ETH   $ 241.53963  -3.71%   $ 250.85644   $ 238.82313   \n",
       "2       eos    EOS   $ 6.3749150  -5.15%   $ 6.8562049   $ 6.2783332   \n",
       "3  litecoin    LTC   $ 102.05268  -4.15%   $ 106.46630   $ 100.93849   \n",
       "4    ripple    XRP  $ 0.39611588  -5.50%  $ 0.41917076  $ 0.38970806   \n",
       "\n",
       "  24 volume  # Coins Market cap  \n",
       "0  $ 11.93B   17.74M  $ 136.05B  \n",
       "1   $ 6.37B  106.35M   $ 25.68B  \n",
       "2   $ 3.45B    1.01B    $ 6.46B  \n",
       "3   $ 3.22B   62.07M    $ 6.33B  \n",
       "4   $ 2.15B   42.18B   $ 16.70B  "
      ]
     },
     "execution_count": 21,
     "metadata": {},
     "output_type": "execute_result"
    }
   ],
   "source": [
    "del crypto_final['Price Charts 7d']\n",
    "crypto_final.head()"
   ]
  },
  {
   "cell_type": "code",
   "execution_count": 22,
   "metadata": {},
   "outputs": [],
   "source": [
    "crypto_final = crypto_final.dropna()"
   ]
  },
  {
   "cell_type": "code",
   "execution_count": 23,
   "metadata": {},
   "outputs": [],
   "source": [
    "import matplotlib.pyplot as plt\n",
    "%matplotlib inline"
   ]
  },
  {
   "cell_type": "code",
   "execution_count": 24,
   "metadata": {},
   "outputs": [],
   "source": [
    "crypto_final['%'] = crypto_final['%'].apply(lambda x: x.strip('%'))\n",
    "crypto_final['%'] = crypto_final['%'].astype('float')"
   ]
  },
  {
   "cell_type": "code",
   "execution_count": 25,
   "metadata": {},
   "outputs": [
    {
     "data": {
      "text/plain": [
       "<matplotlib.legend.Legend at 0x7f36b49e20b8>"
      ]
     },
     "execution_count": 25,
     "metadata": {},
     "output_type": "execute_result"
    },
    {
     "data": {
      "text/plain": [
       "<Figure size 432x288 with 0 Axes>"
      ]
     },
     "metadata": {},
     "output_type": "display_data"
    },
    {
     "data": {
      "image/png": "[encoded data removed]",
      "text/plain": [
       "<Figure size 1152x720 with 1 Axes>"
      ]
     },
     "metadata": {
      "needs_background": "light"
     },
     "output_type": "display_data"
    }
   ],
   "source": [
    "plt.figure()\n",
    "plt.figure(figsize=(16,10))\n",
    "x = crypto_final.iloc[:20]['Ticker']\n",
    "y = crypto_final.iloc[:20]['%']\n",
    "plt.xticks(fontsize=12)\n",
    "plt.yticks(fontsize=14)\n",
    "plt.xlabel('Percentage Increase/Decrease in Price', fontsize=20)\n",
    "plt.ylabel('Ticker', fontsize=20)\n",
    "\n",
    "plt.plot(x, y, label='% Increase/Decrease in Price')\n",
    "plt.legend(loc='lower left', prop={'size': 15})"
   ]
  },
  {
   "cell_type": "code",
   "execution_count": 26,
   "metadata": {},
   "outputs": [],
   "source": [
    "import pickle\n",
    "with open('crypto_final.pickle', 'wb') as sub_data:\n",
    "    pickle.dump(crypto_final, sub_data, protocol=pickle.HIGHEST_PROTOCOL)"
   ]
  },
  {
   "cell_type": "code",
   "execution_count": 27,
   "metadata": {},
   "outputs": [
    {
     "data": {
      "text/html": [
       "<div>\n",
       "<style scoped>\n",
       "    .dataframe tbody tr th:only-of-type {\n",
       "        vertical-align: middle;\n",
       "    }\n",
       "\n",
       "    .dataframe tbody tr th {\n",
       "        vertical-align: top;\n",
       "    }\n",
       "\n",
       "    .dataframe thead th {\n",
       "        text-align: right;\n",
       "    }\n",
       "</style>\n",
       "<table border=\"1\" class=\"dataframe\">\n",
       "  <thead>\n",
       "    <tr style=\"text-align: right;\">\n",
       "      <th></th>\n",
       "      <th>Name</th>\n",
       "      <th>Ticker</th>\n",
       "      <th>Last price</th>\n",
       "      <th>%</th>\n",
       "      <th>24 high</th>\n",
       "      <th>24 low</th>\n",
       "      <th>24 volume</th>\n",
       "      <th># Coins</th>\n",
       "      <th>Market cap</th>\n",
       "    </tr>\n",
       "  </thead>\n",
       "  <tbody>\n",
       "    <tr>\n",
       "      <th>0</th>\n",
       "      <td>bitcoin</td>\n",
       "      <td>BTC</td>\n",
       "      <td>$ 7,669.233</td>\n",
       "      <td>-5.72</td>\n",
       "      <td>$ 8,134.500</td>\n",
       "      <td>$ 7,610.561</td>\n",
       "      <td>$ 11.93B</td>\n",
       "      <td>17.74M</td>\n",
       "      <td>$ 136.05B</td>\n",
       "    </tr>\n",
       "    <tr>\n",
       "      <th>1</th>\n",
       "      <td>ethereum</td>\n",
       "      <td>ETH</td>\n",
       "      <td>$ 241.53963</td>\n",
       "      <td>-3.71</td>\n",
       "      <td>$ 250.85644</td>\n",
       "      <td>$ 238.82313</td>\n",
       "      <td>$ 6.37B</td>\n",
       "      <td>106.35M</td>\n",
       "      <td>$ 25.68B</td>\n",
       "    </tr>\n",
       "    <tr>\n",
       "      <th>2</th>\n",
       "      <td>eos</td>\n",
       "      <td>EOS</td>\n",
       "      <td>$ 6.3749150</td>\n",
       "      <td>-5.15</td>\n",
       "      <td>$ 6.8562049</td>\n",
       "      <td>$ 6.2783332</td>\n",
       "      <td>$ 3.45B</td>\n",
       "      <td>1.01B</td>\n",
       "      <td>$ 6.46B</td>\n",
       "    </tr>\n",
       "    <tr>\n",
       "      <th>3</th>\n",
       "      <td>litecoin</td>\n",
       "      <td>LTC</td>\n",
       "      <td>$ 102.05268</td>\n",
       "      <td>-4.15</td>\n",
       "      <td>$ 106.46630</td>\n",
       "      <td>$ 100.93849</td>\n",
       "      <td>$ 3.22B</td>\n",
       "      <td>62.07M</td>\n",
       "      <td>$ 6.33B</td>\n",
       "    </tr>\n",
       "    <tr>\n",
       "      <th>4</th>\n",
       "      <td>ripple</td>\n",
       "      <td>XRP</td>\n",
       "      <td>$ 0.39611588</td>\n",
       "      <td>-5.50</td>\n",
       "      <td>$ 0.41917076</td>\n",
       "      <td>$ 0.38970806</td>\n",
       "      <td>$ 2.15B</td>\n",
       "      <td>42.18B</td>\n",
       "      <td>$ 16.70B</td>\n",
       "    </tr>\n",
       "  </tbody>\n",
       "</table>\n",
       "</div>"
      ],
      "text/plain": [
       "       Name Ticker    Last price     %       24 high        24 low 24 volume  \\\n",
       "0   bitcoin    BTC   $ 7,669.233 -5.72   $ 8,134.500   $ 7,610.561  $ 11.93B   \n",
       "1  ethereum    ETH   $ 241.53963 -3.71   $ 250.85644   $ 238.82313   $ 6.37B   \n",
       "2       eos    EOS   $ 6.3749150 -5.15   $ 6.8562049   $ 6.2783332   $ 3.45B   \n",
       "3  litecoin    LTC   $ 102.05268 -4.15   $ 106.46630   $ 100.93849   $ 3.22B   \n",
       "4    ripple    XRP  $ 0.39611588 -5.50  $ 0.41917076  $ 0.38970806   $ 2.15B   \n",
       "\n",
       "   # Coins Market cap  \n",
       "0   17.74M  $ 136.05B  \n",
       "1  106.35M   $ 25.68B  \n",
       "2    1.01B    $ 6.46B  \n",
       "3   62.07M    $ 6.33B  \n",
       "4   42.18B   $ 16.70B  "
      ]
     },
     "execution_count": 27,
     "metadata": {},
     "output_type": "execute_result"
    }
   ],
   "source": [
    "crypto = pd.read_pickle('crypto_final.pickle')\n",
    "crypto.head()"
   ]
  },
  {
   "cell_type": "code",
   "execution_count": null,
   "metadata": {},
   "outputs": [],
   "source": []
  }
 ],
 "metadata": {
  "kernelspec": {
   "display_name": "Python 3",
   "language": "python",
   "name": "python3"
  },
  "language_info": {
   "codemirror_mode": {
    "name": "ipython",
    "version": 3
   },
   "file_extension": ".py",
   "mimetype": "text/x-python",
   "name": "python",
   "nbconvert_exporter": "python",
   "pygments_lexer": "ipython3",
   "version": "3.7.3"
  }
 },
 "nbformat": 4,
 "nbformat_minor": 2
}
